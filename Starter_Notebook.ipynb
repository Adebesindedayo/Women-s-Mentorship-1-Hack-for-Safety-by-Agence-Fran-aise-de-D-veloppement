{
 "cells": [
  {
   "cell_type": "code",
   "execution_count": 1,
   "metadata": {},
   "outputs": [
    {
     "name": "stderr",
     "output_type": "stream",
     "text": [
      "\n",
      "Bad key \"text.kerning_factor\" on line 4 in\n",
      "C:\\Users\\USER\\anaconda3\\lib\\site-packages\\matplotlib\\mpl-data\\stylelib\\_classic_test_patch.mplstyle.\n",
      "You probably need to get an updated matplotlibrc file from\n",
      "https://github.com/matplotlib/matplotlib/blob/v3.1.3/matplotlibrc.template\n",
      "or from the matplotlib source distribution\n"
     ]
    }
   ],
   "source": [
    "import pandas as pd\n",
    "import seaborn as sns\n",
    "\n",
    "from sklearn.model_selection import train_test_split\n",
    "from sklearn.linear_model import LogisticRegression\n",
    "from sklearn.ensemble import RandomForestClassifier\n",
    "from sklearn.metrics import accuracy_score,  mean_squared_error, f1_score, roc_auc_score\n",
    "\n",
    "from sklearn.preprocessing import LabelEncoder\n",
    "\n",
    "label = LabelEncoder()"
   ]
  },
  {
   "cell_type": "markdown",
   "metadata": {},
   "source": [
    "##### Data loading and Preparation"
   ]
  },
  {
   "cell_type": "code",
   "execution_count": 2,
   "metadata": {},
   "outputs": [],
   "source": [
    "train_df = pd.read_csv(\"Train.csv\")"
   ]
  },
  {
   "cell_type": "code",
   "execution_count": 3,
   "metadata": {},
   "outputs": [
    {
     "data": {
      "text/plain": [
       "(7736, 21)"
      ]
     },
     "execution_count": 3,
     "metadata": {},
     "output_type": "execute_result"
    }
   ],
   "source": [
    "train_df.shape"
   ]
  },
  {
   "cell_type": "code",
   "execution_count": 4,
   "metadata": {},
   "outputs": [
    {
     "data": {
      "text/html": [
       "<div>\n",
       "<style scoped>\n",
       "    .dataframe tbody tr th:only-of-type {\n",
       "        vertical-align: middle;\n",
       "    }\n",
       "\n",
       "    .dataframe tbody tr th {\n",
       "        vertical-align: top;\n",
       "    }\n",
       "\n",
       "    .dataframe thead th {\n",
       "        text-align: right;\n",
       "    }\n",
       "</style>\n",
       "<table border=\"1\" class=\"dataframe\">\n",
       "  <thead>\n",
       "    <tr style=\"text-align: right;\">\n",
       "      <th></th>\n",
       "      <th>ID</th>\n",
       "      <th>gender</th>\n",
       "      <th>age</th>\n",
       "      <th>race</th>\n",
       "      <th>dwelling</th>\n",
       "      <th>dwelling_type</th>\n",
       "      <th>province_code</th>\n",
       "      <th>metro_code</th>\n",
       "      <th>psu</th>\n",
       "      <th>nationality</th>\n",
       "      <th>...</th>\n",
       "      <th>marital_st</th>\n",
       "      <th>Lang_inside</th>\n",
       "      <th>Lang_outside</th>\n",
       "      <th>Education</th>\n",
       "      <th>lw_work</th>\n",
       "      <th>lw_business</th>\n",
       "      <th>help_on_household</th>\n",
       "      <th>job_or_business</th>\n",
       "      <th>nature_of_work</th>\n",
       "      <th>target</th>\n",
       "    </tr>\n",
       "  </thead>\n",
       "  <tbody>\n",
       "    <tr>\n",
       "      <th>0</th>\n",
       "      <td>ID_00008683</td>\n",
       "      <td>Female</td>\n",
       "      <td>20</td>\n",
       "      <td>Black African</td>\n",
       "      <td>Dwelling/house or brick/concrete block structu...</td>\n",
       "      <td>Formal</td>\n",
       "      <td>North West</td>\n",
       "      <td>NW - Non Metro</td>\n",
       "      <td>66710095</td>\n",
       "      <td>South Africa</td>\n",
       "      <td>...</td>\n",
       "      <td>Single and have never been married/never lived...</td>\n",
       "      <td>Xitsonga</td>\n",
       "      <td>Setswana</td>\n",
       "      <td>Grade 11/Standard 9/Form 4</td>\n",
       "      <td>No</td>\n",
       "      <td>No</td>\n",
       "      <td>No</td>\n",
       "      <td>No</td>\n",
       "      <td>Not applicable</td>\n",
       "      <td>0</td>\n",
       "    </tr>\n",
       "    <tr>\n",
       "      <th>1</th>\n",
       "      <td>ID_00061163</td>\n",
       "      <td>Female</td>\n",
       "      <td>42</td>\n",
       "      <td>Black African</td>\n",
       "      <td>Dwelling/house or brick/concrete block structu...</td>\n",
       "      <td>Formal</td>\n",
       "      <td>Limpopo</td>\n",
       "      <td>LP - Non Metro</td>\n",
       "      <td>98510279</td>\n",
       "      <td>South Africa</td>\n",
       "      <td>...</td>\n",
       "      <td>Living together like husband and wife</td>\n",
       "      <td>Sepedi</td>\n",
       "      <td>Sepedi</td>\n",
       "      <td>Grade 12/Standard 10/Form 5/Matric (No Exemption)</td>\n",
       "      <td>Yes</td>\n",
       "      <td>No</td>\n",
       "      <td>No</td>\n",
       "      <td>Not applicable</td>\n",
       "      <td>Permanent</td>\n",
       "      <td>0</td>\n",
       "    </tr>\n",
       "    <tr>\n",
       "      <th>2</th>\n",
       "      <td>ID_00071403</td>\n",
       "      <td>Female</td>\n",
       "      <td>86</td>\n",
       "      <td>Black African</td>\n",
       "      <td>Dwelling/house or brick/concrete block structu...</td>\n",
       "      <td>Formal</td>\n",
       "      <td>Eastern Cape</td>\n",
       "      <td>EC - Non Metro</td>\n",
       "      <td>29210321</td>\n",
       "      <td>South Africa</td>\n",
       "      <td>...</td>\n",
       "      <td>Widowed</td>\n",
       "      <td>IsiXhosa</td>\n",
       "      <td>IsiXhosa</td>\n",
       "      <td>Unspecified</td>\n",
       "      <td>No</td>\n",
       "      <td>No</td>\n",
       "      <td>No</td>\n",
       "      <td>No</td>\n",
       "      <td>Not applicable</td>\n",
       "      <td>0</td>\n",
       "    </tr>\n",
       "    <tr>\n",
       "      <th>3</th>\n",
       "      <td>ID_00077803</td>\n",
       "      <td>Female</td>\n",
       "      <td>20</td>\n",
       "      <td>Black African</td>\n",
       "      <td>Town house (semi-detached house in complex)</td>\n",
       "      <td>Formal</td>\n",
       "      <td>KwaZulu-Natal</td>\n",
       "      <td>KZN - eThekwini</td>\n",
       "      <td>59913860</td>\n",
       "      <td>South Africa</td>\n",
       "      <td>...</td>\n",
       "      <td>Single and have never been married/never lived...</td>\n",
       "      <td>IsiZulu</td>\n",
       "      <td>IsiZulu</td>\n",
       "      <td>Grade 12/Standard 10/Form 5/Matric (No Exemption)</td>\n",
       "      <td>No</td>\n",
       "      <td>No</td>\n",
       "      <td>No</td>\n",
       "      <td>No</td>\n",
       "      <td>Not applicable</td>\n",
       "      <td>0</td>\n",
       "    </tr>\n",
       "    <tr>\n",
       "      <th>4</th>\n",
       "      <td>ID_00086763</td>\n",
       "      <td>Female</td>\n",
       "      <td>26</td>\n",
       "      <td>Black African</td>\n",
       "      <td>Town house (semi-detached house in complex)</td>\n",
       "      <td>Formal</td>\n",
       "      <td>Gauteng</td>\n",
       "      <td>GP - City of Johannesburg</td>\n",
       "      <td>79813828</td>\n",
       "      <td>South Africa</td>\n",
       "      <td>...</td>\n",
       "      <td>Single and have never been married/never lived...</td>\n",
       "      <td>Setswana</td>\n",
       "      <td>English</td>\n",
       "      <td>Grade 12/Standard 10/Form 5/Matric (No Exemption)</td>\n",
       "      <td>No</td>\n",
       "      <td>No</td>\n",
       "      <td>No</td>\n",
       "      <td>No</td>\n",
       "      <td>Not applicable</td>\n",
       "      <td>0</td>\n",
       "    </tr>\n",
       "  </tbody>\n",
       "</table>\n",
       "<p>5 rows × 21 columns</p>\n",
       "</div>"
      ],
      "text/plain": [
       "            ID  gender  age           race  \\\n",
       "0  ID_00008683  Female   20  Black African   \n",
       "1  ID_00061163  Female   42  Black African   \n",
       "2  ID_00071403  Female   86  Black African   \n",
       "3  ID_00077803  Female   20  Black African   \n",
       "4  ID_00086763  Female   26  Black African   \n",
       "\n",
       "                                            dwelling dwelling_type  \\\n",
       "0  Dwelling/house or brick/concrete block structu...        Formal   \n",
       "1  Dwelling/house or brick/concrete block structu...        Formal   \n",
       "2  Dwelling/house or brick/concrete block structu...        Formal   \n",
       "3        Town house (semi-detached house in complex)        Formal   \n",
       "4        Town house (semi-detached house in complex)        Formal   \n",
       "\n",
       "   province_code                 metro_code       psu   nationality  ...  \\\n",
       "0     North West             NW - Non Metro  66710095  South Africa  ...   \n",
       "1        Limpopo             LP - Non Metro  98510279  South Africa  ...   \n",
       "2   Eastern Cape             EC - Non Metro  29210321  South Africa  ...   \n",
       "3  KwaZulu-Natal            KZN - eThekwini  59913860  South Africa  ...   \n",
       "4        Gauteng  GP - City of Johannesburg  79813828  South Africa  ...   \n",
       "\n",
       "                                          marital_st Lang_inside Lang_outside  \\\n",
       "0  Single and have never been married/never lived...    Xitsonga     Setswana   \n",
       "1              Living together like husband and wife      Sepedi       Sepedi   \n",
       "2                                            Widowed    IsiXhosa     IsiXhosa   \n",
       "3  Single and have never been married/never lived...     IsiZulu      IsiZulu   \n",
       "4  Single and have never been married/never lived...    Setswana      English   \n",
       "\n",
       "                                           Education lw_work lw_business  \\\n",
       "0                         Grade 11/Standard 9/Form 4      No          No   \n",
       "1  Grade 12/Standard 10/Form 5/Matric (No Exemption)     Yes          No   \n",
       "2                                        Unspecified      No          No   \n",
       "3  Grade 12/Standard 10/Form 5/Matric (No Exemption)      No          No   \n",
       "4  Grade 12/Standard 10/Form 5/Matric (No Exemption)      No          No   \n",
       "\n",
       "  help_on_household job_or_business  nature_of_work target  \n",
       "0                No              No  Not applicable      0  \n",
       "1                No  Not applicable       Permanent      0  \n",
       "2                No              No  Not applicable      0  \n",
       "3                No              No  Not applicable      0  \n",
       "4                No              No  Not applicable      0  \n",
       "\n",
       "[5 rows x 21 columns]"
      ]
     },
     "execution_count": 4,
     "metadata": {},
     "output_type": "execute_result"
    }
   ],
   "source": [
    "train_df.head()"
   ]
  },
  {
   "cell_type": "code",
   "execution_count": 5,
   "metadata": {},
   "outputs": [
    {
     "data": {
      "text/plain": [
       "Index(['ID', 'gender', 'age', 'race', 'dwelling', 'dwelling_type',\n",
       "       'province_code', 'metro_code', 'psu', 'nationality', 'RTH',\n",
       "       'marital_st', 'Lang_inside', 'Lang_outside', 'Education', 'lw_work',\n",
       "       'lw_business', 'help_on_household', 'job_or_business', 'nature_of_work',\n",
       "       'target'],\n",
       "      dtype='object')"
      ]
     },
     "execution_count": 5,
     "metadata": {},
     "output_type": "execute_result"
    }
   ],
   "source": [
    "train_df.columns"
   ]
  },
  {
   "cell_type": "markdown",
   "metadata": {},
   "source": [
    "#### Data Visualisation"
   ]
  },
  {
   "cell_type": "code",
   "execution_count": 6,
   "metadata": {},
   "outputs": [
    {
     "data": {
      "text/plain": [
       "<matplotlib.axes._subplots.AxesSubplot at 0x1b27ff99f08>"
      ]
     },
     "execution_count": 6,
     "metadata": {},
     "output_type": "execute_result"
    },
    {
     "data": {
      "image/png": "[encoded data removed]",
      "text/plain": [
       "<Figure size 432x288 with 1 Axes>"
      ]
     },
     "metadata": {
      "needs_background": "light"
     },
     "output_type": "display_data"
    }
   ],
   "source": [
    "sns.countplot(train_df[\"target\"])"
   ]
  },
  {
   "cell_type": "markdown",
   "metadata": {},
   "source": [
    "- Try to create more visualisation from the other columns, what is the level of education of individual in the dataset.\n",
    "- What about coorelation of other columns to the target."
   ]
  },
  {
   "cell_type": "markdown",
   "metadata": {},
   "source": [
    "##### Handling Categorical columns\n",
    "- There are various way of encoding categorical columns. In the case below we're using label encoding \n",
    "<https://scikit-learn.org/stable/modules/generated/sklearn.preprocessing.LabelEncoder.html>.\n",
    "- Find out other ways of encoding categorical columns, like one hot encoding - which one works better on this case."
   ]
  },
  {
   "cell_type": "code",
   "execution_count": 7,
   "metadata": {},
   "outputs": [],
   "source": [
    "train_df['gender'] = label.fit_transform(train_df['gender'])\n",
    "train_df['race'] = label.fit_transform(train_df['race'])\n",
    "train_df['dwelling'] = label.fit_transform(train_df['dwelling'])\n",
    "train_df['dwelling_type'] = label.fit_transform(train_df['dwelling_type'])\n",
    "train_df['province_code'] = label.fit_transform(train_df['province_code'])\n",
    "train_df['metro_code'] = label.fit_transform(train_df['metro_code'])\n",
    "train_df['nationality'] = label.fit_transform(train_df['nationality'])\n",
    "train_df['RTH'] = label.fit_transform(train_df['RTH'])\n",
    "train_df['marital_st'] = label.fit_transform(train_df['marital_st'])\n",
    "train_df['Lang_inside'] = label.fit_transform(train_df['Lang_inside'])\n",
    "train_df['Lang_outside'] = label.fit_transform(train_df['Lang_outside'])\n",
    "train_df['Education'] = label.fit_transform(train_df['Education'])\n",
    "train_df['lw_work'] = label.fit_transform(train_df['lw_work'])\n",
    "train_df['lw_business'] = label.fit_transform(train_df['lw_business'])\n",
    "train_df['help_on_household'] = label.fit_transform(train_df['help_on_household'])\n",
    "train_df['job_or_business'] = label.fit_transform(train_df['job_or_business'])\n",
    "train_df['nature_of_work'] = label.fit_transform(train_df['nature_of_work'])\n",
    "\n"
   ]
  },
  {
   "cell_type": "code",
   "execution_count": 12,
   "metadata": {},
   "outputs": [
    {
     "data": {
      "text/html": [
       "<div>\n",
       "<style scoped>\n",
       "    .dataframe tbody tr th:only-of-type {\n",
       "        vertical-align: middle;\n",
       "    }\n",
       "\n",
       "    .dataframe tbody tr th {\n",
       "        vertical-align: top;\n",
       "    }\n",
       "\n",
       "    .dataframe thead th {\n",
       "        text-align: right;\n",
       "    }\n",
       "</style>\n",
       "<table border=\"1\" class=\"dataframe\">\n",
       "  <thead>\n",
       "    <tr style=\"text-align: right;\">\n",
       "      <th></th>\n",
       "      <th>ID</th>\n",
       "      <th>gender</th>\n",
       "      <th>age</th>\n",
       "      <th>race</th>\n",
       "      <th>dwelling</th>\n",
       "      <th>dwelling_type</th>\n",
       "      <th>province_code</th>\n",
       "      <th>metro_code</th>\n",
       "      <th>psu</th>\n",
       "      <th>nationality</th>\n",
       "      <th>...</th>\n",
       "      <th>marital_st</th>\n",
       "      <th>Lang_inside</th>\n",
       "      <th>Lang_outside</th>\n",
       "      <th>Education</th>\n",
       "      <th>lw_work</th>\n",
       "      <th>lw_business</th>\n",
       "      <th>help_on_household</th>\n",
       "      <th>job_or_business</th>\n",
       "      <th>nature_of_work</th>\n",
       "      <th>target</th>\n",
       "    </tr>\n",
       "  </thead>\n",
       "  <tbody>\n",
       "    <tr>\n",
       "      <th>0</th>\n",
       "      <td>ID_00008683</td>\n",
       "      <td>0</td>\n",
       "      <td>20</td>\n",
       "      <td>0</td>\n",
       "      <td>2</td>\n",
       "      <td>0</td>\n",
       "      <td>6</td>\n",
       "      <td>14</td>\n",
       "      <td>66710095</td>\n",
       "      <td>1</td>\n",
       "      <td>...</td>\n",
       "      <td>4</td>\n",
       "      <td>14</td>\n",
       "      <td>9</td>\n",
       "      <td>9</td>\n",
       "      <td>1</td>\n",
       "      <td>1</td>\n",
       "      <td>1</td>\n",
       "      <td>1</td>\n",
       "      <td>3</td>\n",
       "      <td>0</td>\n",
       "    </tr>\n",
       "    <tr>\n",
       "      <th>1</th>\n",
       "      <td>ID_00061163</td>\n",
       "      <td>0</td>\n",
       "      <td>42</td>\n",
       "      <td>0</td>\n",
       "      <td>2</td>\n",
       "      <td>0</td>\n",
       "      <td>4</td>\n",
       "      <td>11</td>\n",
       "      <td>98510279</td>\n",
       "      <td>1</td>\n",
       "      <td>...</td>\n",
       "      <td>1</td>\n",
       "      <td>7</td>\n",
       "      <td>7</td>\n",
       "      <td>11</td>\n",
       "      <td>3</td>\n",
       "      <td>1</td>\n",
       "      <td>1</td>\n",
       "      <td>2</td>\n",
       "      <td>4</td>\n",
       "      <td>0</td>\n",
       "    </tr>\n",
       "    <tr>\n",
       "      <th>2</th>\n",
       "      <td>ID_00071403</td>\n",
       "      <td>0</td>\n",
       "      <td>86</td>\n",
       "      <td>0</td>\n",
       "      <td>2</td>\n",
       "      <td>0</td>\n",
       "      <td>0</td>\n",
       "      <td>2</td>\n",
       "      <td>29210321</td>\n",
       "      <td>1</td>\n",
       "      <td>...</td>\n",
       "      <td>7</td>\n",
       "      <td>3</td>\n",
       "      <td>3</td>\n",
       "      <td>32</td>\n",
       "      <td>1</td>\n",
       "      <td>1</td>\n",
       "      <td>1</td>\n",
       "      <td>1</td>\n",
       "      <td>3</td>\n",
       "      <td>0</td>\n",
       "    </tr>\n",
       "    <tr>\n",
       "      <th>3</th>\n",
       "      <td>ID_00077803</td>\n",
       "      <td>0</td>\n",
       "      <td>20</td>\n",
       "      <td>0</td>\n",
       "      <td>10</td>\n",
       "      <td>0</td>\n",
       "      <td>3</td>\n",
       "      <td>10</td>\n",
       "      <td>59913860</td>\n",
       "      <td>1</td>\n",
       "      <td>...</td>\n",
       "      <td>4</td>\n",
       "      <td>4</td>\n",
       "      <td>4</td>\n",
       "      <td>11</td>\n",
       "      <td>1</td>\n",
       "      <td>1</td>\n",
       "      <td>1</td>\n",
       "      <td>1</td>\n",
       "      <td>3</td>\n",
       "      <td>0</td>\n",
       "    </tr>\n",
       "    <tr>\n",
       "      <th>4</th>\n",
       "      <td>ID_00086763</td>\n",
       "      <td>0</td>\n",
       "      <td>26</td>\n",
       "      <td>0</td>\n",
       "      <td>10</td>\n",
       "      <td>0</td>\n",
       "      <td>2</td>\n",
       "      <td>5</td>\n",
       "      <td>79813828</td>\n",
       "      <td>1</td>\n",
       "      <td>...</td>\n",
       "      <td>4</td>\n",
       "      <td>9</td>\n",
       "      <td>1</td>\n",
       "      <td>11</td>\n",
       "      <td>1</td>\n",
       "      <td>1</td>\n",
       "      <td>1</td>\n",
       "      <td>1</td>\n",
       "      <td>3</td>\n",
       "      <td>0</td>\n",
       "    </tr>\n",
       "  </tbody>\n",
       "</table>\n",
       "<p>5 rows × 21 columns</p>\n",
       "</div>"
      ],
      "text/plain": [
       "            ID  gender  age  race  dwelling  dwelling_type  province_code  \\\n",
       "0  ID_00008683       0   20     0         2              0              6   \n",
       "1  ID_00061163       0   42     0         2              0              4   \n",
       "2  ID_00071403       0   86     0         2              0              0   \n",
       "3  ID_00077803       0   20     0        10              0              3   \n",
       "4  ID_00086763       0   26     0        10              0              2   \n",
       "\n",
       "   metro_code       psu  nationality  ...  marital_st  Lang_inside  \\\n",
       "0          14  66710095            1  ...           4           14   \n",
       "1          11  98510279            1  ...           1            7   \n",
       "2           2  29210321            1  ...           7            3   \n",
       "3          10  59913860            1  ...           4            4   \n",
       "4           5  79813828            1  ...           4            9   \n",
       "\n",
       "   Lang_outside  Education  lw_work  lw_business  help_on_household  \\\n",
       "0             9          9        1            1                  1   \n",
       "1             7         11        3            1                  1   \n",
       "2             3         32        1            1                  1   \n",
       "3             4         11        1            1                  1   \n",
       "4             1         11        1            1                  1   \n",
       "\n",
       "   job_or_business  nature_of_work  target  \n",
       "0                1               3       0  \n",
       "1                2               4       0  \n",
       "2                1               3       0  \n",
       "3                1               3       0  \n",
       "4                1               3       0  \n",
       "\n",
       "[5 rows x 21 columns]"
      ]
     },
     "execution_count": 12,
     "metadata": {},
     "output_type": "execute_result"
    }
   ],
   "source": [
    "train_df.head()"
   ]
  },
  {
   "cell_type": "code",
   "execution_count": 13,
   "metadata": {},
   "outputs": [
    {
     "data": {
      "text/plain": [
       "array([8, 7, 1, 4, 5, 0, 2, 6, 3, 9], dtype=int64)"
      ]
     },
     "execution_count": 13,
     "metadata": {},
     "output_type": "execute_result"
    }
   ],
   "source": [
    "train_df.RTH.unique()"
   ]
  },
  {
   "cell_type": "code",
   "execution_count": 14,
   "metadata": {},
   "outputs": [
    {
     "data": {
      "text/plain": [
       "98710543"
      ]
     },
     "execution_count": 14,
     "metadata": {},
     "output_type": "execute_result"
    }
   ],
   "source": [
    "train_df.psu.max()"
   ]
  },
  {
   "cell_type": "markdown",
   "metadata": {},
   "source": [
    "##### Spliting the data\n",
    "- It's always advisable to set aside some data for validating how your model performs. They are various methods of cross validation. In this case we use train-test split module from sklearn.\n",
    "\n",
    "- Try other methods of cross-validation, Kfold, Stratified Fold, etc."
   ]
  },
  {
   "cell_type": "code",
   "execution_count": 15,
   "metadata": {},
   "outputs": [
    {
     "data": {
      "text/plain": [
       "102"
      ]
     },
     "execution_count": 15,
     "metadata": {},
     "output_type": "execute_result"
    }
   ],
   "source": [
    "train_df.age.max()"
   ]
  },
  {
   "cell_type": "code",
   "execution_count": 16,
   "metadata": {},
   "outputs": [],
   "source": [
    "# spliting the data, 70% train set and 30% val set\n",
    "train_set, val_set = train_test_split(train_df,\n",
    "                               test_size=0.30, random_state=2)"
   ]
  },
  {
   "cell_type": "code",
   "execution_count": 17,
   "metadata": {},
   "outputs": [
    {
     "data": {
      "text/plain": [
       "(5415, 21)"
      ]
     },
     "execution_count": 17,
     "metadata": {},
     "output_type": "execute_result"
    }
   ],
   "source": [
    "train_set.shape"
   ]
  },
  {
   "cell_type": "code",
   "execution_count": 18,
   "metadata": {},
   "outputs": [
    {
     "data": {
      "text/plain": [
       "(2321, 21)"
      ]
     },
     "execution_count": 18,
     "metadata": {},
     "output_type": "execute_result"
    }
   ],
   "source": [
    "val_set.shape"
   ]
  },
  {
   "cell_type": "code",
   "execution_count": 19,
   "metadata": {},
   "outputs": [],
   "source": [
    "X_train_set = train_set.drop([\"target\", \"ID\"], axis=1) # feature columns\n",
    "y_train_set = train_set[\"target\"] # the label/target column"
   ]
  },
  {
   "cell_type": "markdown",
   "metadata": {},
   "source": [
    "##### Model\n",
    "- Create a binary classifier model for training purposes.\n",
    "- Using simple RandomForest Classifier"
   ]
  },
  {
   "cell_type": "code",
   "execution_count": 20,
   "metadata": {},
   "outputs": [
    {
     "data": {
      "text/plain": [
       "RandomForestClassifier()"
      ]
     },
     "execution_count": 20,
     "metadata": {},
     "output_type": "execute_result"
    }
   ],
   "source": [
    "cls = RandomForestClassifier()\n",
    "cls.fit(X_train_set, y_train_set)"
   ]
  },
  {
   "cell_type": "code",
   "execution_count": 21,
   "metadata": {},
   "outputs": [
    {
     "data": {
      "text/plain": [
       "['model.joblib']"
      ]
     },
     "execution_count": 21,
     "metadata": {},
     "output_type": "execute_result"
    }
   ],
   "source": [
    "# export to \n",
    "import sklearn.externals\n",
    "import joblib\n",
    "\n",
    "joblib.dump(cls, 'model.joblib')"
   ]
  },
  {
   "cell_type": "markdown",
   "metadata": {},
   "source": [
    "###### 1. validation set\n",
    "- let's see how our classifier performs on the validation dataset"
   ]
  },
  {
   "cell_type": "code",
   "execution_count": 22,
   "metadata": {},
   "outputs": [],
   "source": [
    "X_val_set = val_set.drop([\"target\", \"ID\"], axis=1)\n",
    "y_val_set = val_set[\"target\"]"
   ]
  },
  {
   "cell_type": "code",
   "execution_count": 23,
   "metadata": {},
   "outputs": [],
   "source": [
    "y_pred = cls.predict(X_val_set)"
   ]
  },
  {
   "cell_type": "markdown",
   "metadata": {},
   "source": [
    "###### 2. Error metric\n",
    " - f1 score is the error metric for this competition.\n",
    " - **f1 score** -  "
   ]
  },
  {
   "cell_type": "code",
   "execution_count": 24,
   "metadata": {},
   "outputs": [
    {
     "data": {
      "text/plain": [
       "0.011235955056179775"
      ]
     },
     "execution_count": 24,
     "metadata": {},
     "output_type": "execute_result"
    }
   ],
   "source": [
    "f1_score(y_val_set, y_pred)"
   ]
  },
  {
   "cell_type": "markdown",
   "metadata": {},
   "source": [
    "-We have an **f1 score of 0.0294**. Think of other ways to improve the scores like;\n",
    "         \n",
    "  - generate more features\n",
    "  - drop the column that are least important, like gender in this case since we're only dealing with female crime data\n",
    "  - try different classifier models, e.g k-Nearest Neighbor(KNN) classifier, Support Vector Machines, catboost classifier etc"
   ]
  },
  {
   "cell_type": "markdown",
   "metadata": {},
   "source": [
    "#### Submission\n",
    "\n",
    "- generating a sumission file "
   ]
  },
  {
   "cell_type": "markdown",
   "metadata": {},
   "source": [
    "###### 1. load the test data\n",
    "\n",
    "- Do the same preprocessing performed on the training data"
   ]
  },
  {
   "cell_type": "code",
   "execution_count": 25,
   "metadata": {},
   "outputs": [],
   "source": [
    "test_df = pd.read_csv(\"Test.csv\")\n",
    "\n",
    "# preprocessing\n",
    "test_df['gender'] = label.fit_transform(test_df['gender'])\n",
    "test_df['race'] = label.fit_transform(test_df['race'])\n",
    "\n",
    "# preprocess all the othe columns as well\n",
    "test_df['dwelling'] = label.fit_transform(test_df['dwelling'])\n",
    "test_df['dwelling_type'] = label.fit_transform(test_df['dwelling_type'])\n",
    "test_df['province_code'] = label.fit_transform(test_df['province_code'])\n",
    "test_df['metro_code'] = label.fit_transform(test_df['metro_code'])\n",
    "test_df['nationality'] = label.fit_transform(test_df['nationality'])\n",
    "test_df['RTH'] = label.fit_transform(test_df['RTH'])\n",
    "test_df['marital_st'] = label.fit_transform(test_df['marital_st'])\n",
    "test_df['Lang_inside'] = label.fit_transform(test_df['Lang_inside'])\n",
    "test_df['Lang_outside'] = label.fit_transform(test_df['Lang_outside'])\n",
    "test_df['Education'] = label.fit_transform(test_df['Education'])\n",
    "test_df['lw_work'] = label.fit_transform(test_df['lw_work'])\n",
    "test_df['lw_business'] = label.fit_transform(test_df['lw_business'])\n",
    "test_df['help_on_household'] = label.fit_transform(test_df['help_on_household'])\n",
    "test_df['job_or_business'] = label.fit_transform(test_df['job_or_business'])\n",
    "test_df['nature_of_work'] = label.fit_transform(test_df['nature_of_work'])"
   ]
  },
  {
   "cell_type": "code",
   "execution_count": 26,
   "metadata": {},
   "outputs": [
    {
     "data": {
      "text/html": [
       "<div>\n",
       "<style scoped>\n",
       "    .dataframe tbody tr th:only-of-type {\n",
       "        vertical-align: middle;\n",
       "    }\n",
       "\n",
       "    .dataframe tbody tr th {\n",
       "        vertical-align: top;\n",
       "    }\n",
       "\n",
       "    .dataframe thead th {\n",
       "        text-align: right;\n",
       "    }\n",
       "</style>\n",
       "<table border=\"1\" class=\"dataframe\">\n",
       "  <thead>\n",
       "    <tr style=\"text-align: right;\">\n",
       "      <th></th>\n",
       "      <th>ID</th>\n",
       "      <th>gender</th>\n",
       "      <th>age</th>\n",
       "      <th>race</th>\n",
       "      <th>dwelling</th>\n",
       "      <th>dwelling_type</th>\n",
       "      <th>province_code</th>\n",
       "      <th>metro_code</th>\n",
       "      <th>psu</th>\n",
       "      <th>nationality</th>\n",
       "      <th>RTH</th>\n",
       "      <th>marital_st</th>\n",
       "      <th>Lang_inside</th>\n",
       "      <th>Lang_outside</th>\n",
       "      <th>Education</th>\n",
       "      <th>lw_work</th>\n",
       "      <th>lw_business</th>\n",
       "      <th>help_on_household</th>\n",
       "      <th>job_or_business</th>\n",
       "      <th>nature_of_work</th>\n",
       "    </tr>\n",
       "  </thead>\n",
       "  <tbody>\n",
       "    <tr>\n",
       "      <th>0</th>\n",
       "      <td>ID_00241643</td>\n",
       "      <td>0</td>\n",
       "      <td>23</td>\n",
       "      <td>1</td>\n",
       "      <td>1</td>\n",
       "      <td>0</td>\n",
       "      <td>7</td>\n",
       "      <td>13</td>\n",
       "      <td>36410104</td>\n",
       "      <td>1</td>\n",
       "      <td>4</td>\n",
       "      <td>4</td>\n",
       "      <td>0</td>\n",
       "      <td>0</td>\n",
       "      <td>8</td>\n",
       "      <td>3</td>\n",
       "      <td>0</td>\n",
       "      <td>0</td>\n",
       "      <td>1</td>\n",
       "      <td>4</td>\n",
       "    </tr>\n",
       "    <tr>\n",
       "      <th>1</th>\n",
       "      <td>ID_00312043</td>\n",
       "      <td>0</td>\n",
       "      <td>64</td>\n",
       "      <td>0</td>\n",
       "      <td>1</td>\n",
       "      <td>0</td>\n",
       "      <td>4</td>\n",
       "      <td>11</td>\n",
       "      <td>97410477</td>\n",
       "      <td>1</td>\n",
       "      <td>4</td>\n",
       "      <td>7</td>\n",
       "      <td>0</td>\n",
       "      <td>0</td>\n",
       "      <td>11</td>\n",
       "      <td>1</td>\n",
       "      <td>0</td>\n",
       "      <td>0</td>\n",
       "      <td>0</td>\n",
       "      <td>3</td>\n",
       "    </tr>\n",
       "    <tr>\n",
       "      <th>2</th>\n",
       "      <td>ID_00345323</td>\n",
       "      <td>0</td>\n",
       "      <td>18</td>\n",
       "      <td>0</td>\n",
       "      <td>11</td>\n",
       "      <td>2</td>\n",
       "      <td>0</td>\n",
       "      <td>0</td>\n",
       "      <td>26011572</td>\n",
       "      <td>1</td>\n",
       "      <td>8</td>\n",
       "      <td>4</td>\n",
       "      <td>3</td>\n",
       "      <td>3</td>\n",
       "      <td>9</td>\n",
       "      <td>1</td>\n",
       "      <td>0</td>\n",
       "      <td>0</td>\n",
       "      <td>0</td>\n",
       "      <td>3</td>\n",
       "    </tr>\n",
       "    <tr>\n",
       "      <th>3</th>\n",
       "      <td>ID_00369643</td>\n",
       "      <td>0</td>\n",
       "      <td>19</td>\n",
       "      <td>0</td>\n",
       "      <td>1</td>\n",
       "      <td>0</td>\n",
       "      <td>5</td>\n",
       "      <td>12</td>\n",
       "      <td>87710674</td>\n",
       "      <td>1</td>\n",
       "      <td>8</td>\n",
       "      <td>4</td>\n",
       "      <td>12</td>\n",
       "      <td>7</td>\n",
       "      <td>11</td>\n",
       "      <td>1</td>\n",
       "      <td>0</td>\n",
       "      <td>0</td>\n",
       "      <td>0</td>\n",
       "      <td>3</td>\n",
       "    </tr>\n",
       "    <tr>\n",
       "      <th>4</th>\n",
       "      <td>ID_00381163</td>\n",
       "      <td>0</td>\n",
       "      <td>24</td>\n",
       "      <td>0</td>\n",
       "      <td>1</td>\n",
       "      <td>0</td>\n",
       "      <td>5</td>\n",
       "      <td>12</td>\n",
       "      <td>87411106</td>\n",
       "      <td>1</td>\n",
       "      <td>4</td>\n",
       "      <td>4</td>\n",
       "      <td>9</td>\n",
       "      <td>10</td>\n",
       "      <td>9</td>\n",
       "      <td>1</td>\n",
       "      <td>0</td>\n",
       "      <td>0</td>\n",
       "      <td>0</td>\n",
       "      <td>3</td>\n",
       "    </tr>\n",
       "  </tbody>\n",
       "</table>\n",
       "</div>"
      ],
      "text/plain": [
       "            ID  gender  age  race  dwelling  dwelling_type  province_code  \\\n",
       "0  ID_00241643       0   23     1         1              0              7   \n",
       "1  ID_00312043       0   64     0         1              0              4   \n",
       "2  ID_00345323       0   18     0        11              2              0   \n",
       "3  ID_00369643       0   19     0         1              0              5   \n",
       "4  ID_00381163       0   24     0         1              0              5   \n",
       "\n",
       "   metro_code       psu  nationality  RTH  marital_st  Lang_inside  \\\n",
       "0          13  36410104            1    4           4            0   \n",
       "1          11  97410477            1    4           7            0   \n",
       "2           0  26011572            1    8           4            3   \n",
       "3          12  87710674            1    8           4           12   \n",
       "4          12  87411106            1    4           4            9   \n",
       "\n",
       "   Lang_outside  Education  lw_work  lw_business  help_on_household  \\\n",
       "0             0          8        3            0                  0   \n",
       "1             0         11        1            0                  0   \n",
       "2             3          9        1            0                  0   \n",
       "3             7         11        1            0                  0   \n",
       "4            10          9        1            0                  0   \n",
       "\n",
       "   job_or_business  nature_of_work  \n",
       "0                1               4  \n",
       "1                0               3  \n",
       "2                0               3  \n",
       "3                0               3  \n",
       "4                0               3  "
      ]
     },
     "execution_count": 26,
     "metadata": {},
     "output_type": "execute_result"
    }
   ],
   "source": [
    "test_df.head()"
   ]
  },
  {
   "cell_type": "code",
   "execution_count": 27,
   "metadata": {},
   "outputs": [],
   "source": [
    "### predict on the test data\n",
    "test_ = test_df.drop([\"ID\"], axis=1)\n",
    "test_predictions = cls.predict(test_)\n",
    "submission_df = pd.DataFrame()\n",
    "submission_df[\"ID\"] = test_df[\"ID\"]\n",
    "submission_df[\"target\"] = test_predictions\n",
    "# file\n",
    "submission_df.to_csv(\"submission.csv\", index=False)"
   ]
  },
  {
   "cell_type": "code",
   "execution_count": null,
   "metadata": {},
   "outputs": [],
   "source": []
  },
  {
   "cell_type": "code",
   "execution_count": null,
   "metadata": {},
   "outputs": [],
   "source": []
  }
 ],
 "metadata": {
  "kernelspec": {
   "display_name": "Python 3",
   "language": "python",
   "name": "python3"
  },
  "language_info": {
   "codemirror_mode": {
    "name": "ipython",
    "version": 3
   },
   "file_extension": ".py",
   "mimetype": "text/x-python",
   "name": "python",
   "nbconvert_exporter": "python",
   "pygments_lexer": "ipython3",
   "version": "3.7.6"
  }
 },
 "nbformat": 4,
 "nbformat_minor": 5
}
