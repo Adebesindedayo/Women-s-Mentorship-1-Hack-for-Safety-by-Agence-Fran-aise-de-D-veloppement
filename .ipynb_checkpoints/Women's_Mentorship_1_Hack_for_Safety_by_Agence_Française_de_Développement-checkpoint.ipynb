{
 "cells": [
  {
   "cell_type": "markdown",
   "metadata": {
    "colab_type": "text",
    "id": "view-in-github"
   },
   "source": [
    "<a href=\"https://colab.research.google.com/github/Adebesindedayo/Women-s-Mentorship-1-Hack-for-Safety-by-Agence-Fran-aise-de-D-veloppement/blob/main/Women's_Mentorship_1_Hack_for_Safety_by_Agence_Fran%C3%A7aise_de_D%C3%A9veloppement.ipynb\" target=\"_parent\"><img src=\"https://colab.research.google.com/assets/colab-badge.svg\" alt=\"Open In Colab\"/></a>"
   ]
  },
  {
   "cell_type": "code",
   "execution_count": 2,
   "metadata": {
    "colab": {
     "base_uri": "https://localhost:8080/"
    },
    "id": "3yPnnz8w-wfy",
    "outputId": "73b3a696-4d7b-4a56-b92e-b708690a9e91"
   },
   "outputs": [
    {
     "ename": "ModuleNotFoundError",
     "evalue": "No module named 'google'",
     "output_type": "error",
     "traceback": [
      "\u001b[1;31m---------------------------------------------------------------------------\u001b[0m",
      "\u001b[1;31mModuleNotFoundError\u001b[0m                       Traceback (most recent call last)",
      "\u001b[1;32m<ipython-input-2-cc5024450a93>\u001b[0m in \u001b[0;36m<module>\u001b[1;34m\u001b[0m\n\u001b[1;32m----> 1\u001b[1;33m \u001b[1;32mfrom\u001b[0m \u001b[0mgoogle\u001b[0m\u001b[1;33m.\u001b[0m\u001b[0mcolab\u001b[0m \u001b[1;32mimport\u001b[0m \u001b[0mdrive\u001b[0m\u001b[1;33m\u001b[0m\u001b[1;33m\u001b[0m\u001b[0m\n\u001b[0m\u001b[0;32m      2\u001b[0m \u001b[0mdrive\u001b[0m\u001b[1;33m.\u001b[0m\u001b[0mmount\u001b[0m\u001b[1;33m(\u001b[0m\u001b[1;34m'/content/gdrive'\u001b[0m\u001b[1;33m,\u001b[0m \u001b[0mforce_remount\u001b[0m\u001b[1;33m=\u001b[0m\u001b[1;32mTrue\u001b[0m\u001b[1;33m)\u001b[0m\u001b[1;33m\u001b[0m\u001b[1;33m\u001b[0m\u001b[0m\n",
      "\u001b[1;31mModuleNotFoundError\u001b[0m: No module named 'google'"
     ]
    }
   ],
   "source": [
    "from google.colab import drive \n",
    "drive.mount('/content/gdrive', force_remount=True)"
   ]
  },
  {
   "cell_type": "code",
   "execution_count": null,
   "metadata": {
    "colab": {
     "base_uri": "https://localhost:8080/"
    },
    "id": "apitgq2uQJL-",
    "outputId": "22854baf-2ecb-4c08-ecc1-6d61f296a59c"
   },
   "outputs": [],
   "source": [
    "pip install catboost"
   ]
  },
  {
   "cell_type": "code",
   "execution_count": null,
   "metadata": {
    "colab": {
     "base_uri": "https://localhost:8080/"
    },
    "id": "s21Dib-dVuEY",
    "outputId": "4fafeb8e-5737-43f9-fe94-81632b3ba2a0"
   },
   "outputs": [],
   "source": [
    "!pip install rgf_python\n"
   ]
  },
  {
   "cell_type": "code",
   "execution_count": null,
   "metadata": {
    "id": "oDq8JcdaMuCC"
   },
   "outputs": [],
   "source": [
    "import pandas as pd\n",
    "import numpy as np\n",
    "import seaborn as sns\n",
    "import scipy as sc\n",
    "import matplotlib.pyplot as plt\n",
    "sns.set_style('whitegrid')\n",
    "%matplotlib inline\n",
    "import warnings\n",
    "warnings.filterwarnings('ignore')\n",
    "pd.set_option('display.max_columns',None)\n",
    "from lightgbm import LGBMClassifier\n",
    "from sklearn.utils import resample\n",
    "from sklearn.preprocessing import StandardScaler, MinMaxScaler\n",
    "from catboost import CatBoostClassifier\n",
    "from sklearn.pipeline import Pipeline\n",
    "from rgf.sklearn import RGFClassifier\n",
    "from xgboost import XGBClassifier\n",
    "from lightgbm import LGBMClassifier\n",
    "from sklearn.ensemble import RandomForestClassifier, ExtraTreesClassifier, VotingClassifier,GradientBoostingClassifier\n",
    "from sklearn.model_selection import KFold,train_test_split, StratifiedKFold\n",
    "from sklearn.metrics import roc_auc_score, roc_curve, plot_confusion_matrix, plot_roc_curve\n",
    "from sklearn.preprocessing import LabelEncoder\n",
    "sns.set()\n",
    "pd.set_option('display.max_columns', None)\n"
   ]
  },
  {
   "cell_type": "code",
   "execution_count": null,
   "metadata": {
    "colab": {
     "base_uri": "https://localhost:8080/"
    },
    "id": "QQ7QqnQBVW7l",
    "outputId": "f0241a9a-0df7-4eb7-e852-156f80b66a3a"
   },
   "outputs": [],
   "source": [
    "from google.colab import drive \n",
    "drive.mount('/content/gdrive', force_remount=True)"
   ]
  },
  {
   "cell_type": "markdown",
   "metadata": {
    "id": "10fFz0OjWA6Y"
   },
   "source": [
    "# GETTING ALL THE DATA SET"
   ]
  },
  {
   "cell_type": "code",
   "execution_count": null,
   "metadata": {
    "colab": {
     "base_uri": "https://localhost:8080/",
     "height": 556
    },
    "id": "m9CbbHhGFW91",
    "outputId": "d8eaae89-3978-441e-8238-32aced0f19fb"
   },
   "outputs": [],
   "source": [
    "train= pd.read_csv(\"/content/gdrive/My Drive/FIRST_HACKATON/Train.csv\")\n",
    "train.head()\n"
   ]
  },
  {
   "cell_type": "code",
   "execution_count": null,
   "metadata": {
    "colab": {
     "base_uri": "https://localhost:8080/",
     "height": 573
    },
    "id": "jgVvmXONHpTO",
    "outputId": "e923e5ff-caad-4f6d-e2b3-b08d00e8f588"
   },
   "outputs": [],
   "source": [
    "test= pd.read_csv(\"/content/gdrive/My Drive/FIRST_HACKATON/Test.csv\")\n",
    "test.head()\n"
   ]
  },
  {
   "cell_type": "markdown",
   "metadata": {
    "id": "6N8t_Y3yWWBQ"
   },
   "source": [
    " ## BASIC EXPLORATORY DATA ANALYSIS\n"
   ]
  },
  {
   "cell_type": "code",
   "execution_count": null,
   "metadata": {
    "colab": {
     "base_uri": "https://localhost:8080/",
     "height": 484
    },
    "id": "hq5VsLR8WUzY",
    "outputId": "b93f8ad3-f9c9-49d1-d0b9-e16063f9f226"
   },
   "outputs": [],
   "source": [
    "train.describe(include='all')"
   ]
  },
  {
   "cell_type": "code",
   "execution_count": null,
   "metadata": {
    "colab": {
     "base_uri": "https://localhost:8080/"
    },
    "id": "-hNxaCZpWpTB",
    "outputId": "9b9f2eaf-41e6-4066-d89c-0fcb0f649d4f"
   },
   "outputs": [],
   "source": [
    "train.info()\n",
    "#all except the target variable is a categorical data"
   ]
  },
  {
   "cell_type": "code",
   "execution_count": null,
   "metadata": {
    "colab": {
     "base_uri": "https://localhost:8080/"
    },
    "id": "jnQfrVH7Xaiu",
    "outputId": "5d20e20f-41e2-45b2-82af-953d14e6df07"
   },
   "outputs": [],
   "source": [
    "train.columns"
   ]
  },
  {
   "cell_type": "code",
   "execution_count": null,
   "metadata": {
    "colab": {
     "base_uri": "https://localhost:8080/"
    },
    "id": "y5pz2Q0BXwGc",
    "outputId": "2fd05625-7821-462a-e9b8-02dfc7d290f6"
   },
   "outputs": [],
   "source": [
    "train.shape"
   ]
  },
  {
   "cell_type": "markdown",
   "metadata": {
    "id": "JoH1RbYSatoR"
   },
   "source": [
    "**## HANDLING OF CATEGORICAL VARIABLE OF THE TRAIN AND TEST DATA SET USING LABEL ENCODING**"
   ]
  },
  {
   "cell_type": "code",
   "execution_count": null,
   "metadata": {
    "id": "w2uyKqAKaxZv"
   },
   "outputs": [],
   "source": [
    "le = LabelEncoder()"
   ]
  },
  {
   "cell_type": "code",
   "execution_count": 3,
   "metadata": {
    "id": "iAGjAJZCa18M"
   },
   "outputs": [
    {
     "ename": "NameError",
     "evalue": "name 'le' is not defined",
     "output_type": "error",
     "traceback": [
      "\u001b[1;31m---------------------------------------------------------------------------\u001b[0m",
      "\u001b[1;31mNameError\u001b[0m                                 Traceback (most recent call last)",
      "\u001b[1;32m<ipython-input-3-62d6c1f6db48>\u001b[0m in \u001b[0;36m<module>\u001b[1;34m\u001b[0m\n\u001b[1;32m----> 1\u001b[1;33m \u001b[0mtrain\u001b[0m\u001b[1;33m.\u001b[0m\u001b[0mgender\u001b[0m \u001b[1;33m=\u001b[0m \u001b[0mle\u001b[0m\u001b[1;33m.\u001b[0m\u001b[0mfit_transform\u001b[0m\u001b[1;33m(\u001b[0m\u001b[0mtrain\u001b[0m\u001b[1;33m.\u001b[0m\u001b[0mgender\u001b[0m\u001b[1;33m)\u001b[0m\u001b[1;33m.\u001b[0m\u001b[0mastype\u001b[0m\u001b[1;33m(\u001b[0m\u001b[0mnp\u001b[0m\u001b[1;33m.\u001b[0m\u001b[0muint8\u001b[0m\u001b[1;33m)\u001b[0m\u001b[1;33m\u001b[0m\u001b[1;33m\u001b[0m\u001b[0m\n\u001b[0m\u001b[0;32m      2\u001b[0m \u001b[0mtest\u001b[0m\u001b[1;33m.\u001b[0m\u001b[0mgender\u001b[0m \u001b[1;33m=\u001b[0m \u001b[0mle\u001b[0m\u001b[1;33m.\u001b[0m\u001b[0mfit_transform\u001b[0m\u001b[1;33m(\u001b[0m\u001b[0mtest\u001b[0m\u001b[1;33m.\u001b[0m\u001b[0mgender\u001b[0m\u001b[1;33m)\u001b[0m\u001b[1;33m.\u001b[0m\u001b[0mastype\u001b[0m\u001b[1;33m(\u001b[0m\u001b[0mnp\u001b[0m\u001b[1;33m.\u001b[0m\u001b[0muint8\u001b[0m\u001b[1;33m)\u001b[0m\u001b[1;33m\u001b[0m\u001b[1;33m\u001b[0m\u001b[0m\n\u001b[0;32m      3\u001b[0m \u001b[1;33m\u001b[0m\u001b[0m\n\u001b[0;32m      4\u001b[0m \u001b[0mtrain\u001b[0m\u001b[1;33m.\u001b[0m\u001b[0mrace\u001b[0m \u001b[1;33m=\u001b[0m \u001b[0mle\u001b[0m\u001b[1;33m.\u001b[0m\u001b[0mfit_transform\u001b[0m\u001b[1;33m(\u001b[0m\u001b[0mtrain\u001b[0m\u001b[1;33m.\u001b[0m\u001b[0mrace\u001b[0m\u001b[1;33m)\u001b[0m\u001b[1;33m.\u001b[0m\u001b[0mastype\u001b[0m\u001b[1;33m(\u001b[0m\u001b[0mnp\u001b[0m\u001b[1;33m.\u001b[0m\u001b[0muint8\u001b[0m\u001b[1;33m)\u001b[0m\u001b[1;33m\u001b[0m\u001b[1;33m\u001b[0m\u001b[0m\n\u001b[0;32m      5\u001b[0m \u001b[0mtest\u001b[0m\u001b[1;33m.\u001b[0m\u001b[0mrace\u001b[0m \u001b[1;33m=\u001b[0m \u001b[0mle\u001b[0m\u001b[1;33m.\u001b[0m\u001b[0mfit_transform\u001b[0m\u001b[1;33m(\u001b[0m\u001b[0mtest\u001b[0m\u001b[1;33m.\u001b[0m\u001b[0mrace\u001b[0m\u001b[1;33m)\u001b[0m\u001b[1;33m.\u001b[0m\u001b[0mastype\u001b[0m\u001b[1;33m(\u001b[0m\u001b[0mnp\u001b[0m\u001b[1;33m.\u001b[0m\u001b[0muint8\u001b[0m\u001b[1;33m)\u001b[0m\u001b[1;33m\u001b[0m\u001b[1;33m\u001b[0m\u001b[0m\n",
      "\u001b[1;31mNameError\u001b[0m: name 'le' is not defined"
     ]
    }
   ],
   "source": [
    "train.gender = le.fit_transform(train.gender).astype(np.uint8)\n",
    "test.gender = le.fit_transform(test.gender).astype(np.uint8)\n",
    "\n",
    "train.race = le.fit_transform(train.race).astype(np.uint8)\n",
    "test.race = le.fit_transform(test.race).astype(np.uint8)\n",
    "\n",
    "train.dwelling = le.fit_transform(train.dwelling).astype(np.uint8)\n",
    "test.dwelling = le.fit_transform(test.dwelling).astype(np.uint8)\n",
    "\n",
    "train.dwelling_type = le.fit_transform(train.dwelling_type).astype(np.uint8)\n",
    "test.dwelling_type = le.fit_transform(test.dwelling_type).astype(np.uint8)\n",
    "\n",
    "train.province_code = le.fit_transform(train.province_code).astype(np.uint8)\n",
    "test.province_code = le.fit_transform(test.province_code).astype(np.uint8)\n",
    "\n",
    "train.metro_code = le.fit_transform(train.metro_code).astype(np.uint8)\n",
    "test.metro_code = le.fit_transform(test.metro_code).astype(np.uint8)\n",
    "\n",
    "train.nationality= le.fit_transform(train.nationality\t).astype(np.uint8)\n",
    "test.nationality = le.fit_transform(test.nationality\t).astype(np.uint8)\n",
    "\n",
    "train.RTH= le.fit_transform(train.RTH).astype(np.uint8)\n",
    "test.RTH= le.fit_transform(test.RTH).astype(np.uint8)\n",
    "\n",
    "train.marital_st= le.fit_transform(train.marital_st).astype(np.uint8)\n",
    "test.marital_st= le.fit_transform(test.marital_st).astype(np.uint8)\n",
    "\n",
    "train.Lang_inside\t= le.fit_transform(train.Lang_inside\t).astype(np.uint8)\n",
    "test.Lang_inside= le.fit_transform(test.Lang_inside\t).astype(np.uint8)\n",
    "\n",
    "train.Lang_outside= le.fit_transform(train.Lang_outside\t).astype(np.uint8)\n",
    "test.Lang_outside\t= le.fit_transform(test.Lang_outside).astype(np.uint8)\n",
    "\n",
    "train.Education= le.fit_transform(train.Education).astype(np.uint8)\n",
    "test.Education= le.fit_transform(test.Education).astype(np.uint8)\n",
    "\n",
    "train.nature_of_work= le.fit_transform(train.nature_of_work\t).astype(np.uint8)\n",
    "test.nature_of_work= le.fit_transform(test.nature_of_work\t).astype(np.uint8)\n",
    "\n",
    "train.lw_business= le.fit_transform(train.lw_business).astype(np.uint8)\n",
    "test.lw_business= le.fit_transform(test.lw_business\t).astype(np.uint8)\n",
    "\n",
    "train.lw_work= le.fit_transform(train.lw_work).astype(np.uint8)\n",
    "test.lw_work= le.fit_transform(test.lw_work).astype(np.uint8)\n",
    "\n",
    "train.help_on_household\t= le.fit_transform(train.help_on_household).astype(np.uint8)\n",
    "test.help_on_household= le.fit_transform(test.help_on_household).astype(np.uint8)\n",
    "\n",
    "train.job_or_business= le.fit_transform(train.job_or_business).astype(np.uint8)\n",
    "test.job_or_business= le.fit_transform(test.job_or_business).astype(np.uint8)"
   ]
  },
  {
   "cell_type": "markdown",
   "metadata": {
    "id": "L4qmq0NubLNW"
   },
   "source": [
    "**##  SETTING THE FEATURES AND THE LABEL AS X AND Y RESPECTIVELY**"
   ]
  },
  {
   "cell_type": "code",
   "execution_count": null,
   "metadata": {
    "id": "s30wu-e0bKWd"
   },
   "outputs": [],
   "source": [
    "X = train.drop(['ID', 'target'], axis =1)\n",
    "y = train.target"
   ]
  },
  {
   "cell_type": "markdown",
   "metadata": {
    "id": "1owyJKG2bbxW"
   },
   "source": [
    "**DATA VISUALIZATION OF THE TARGET VARIABLE**"
   ]
  },
  {
   "cell_type": "code",
   "execution_count": null,
   "metadata": {
    "colab": {
     "base_uri": "https://localhost:8080/",
     "height": 302
    },
    "id": "g2FuALHCa6Uk",
    "outputId": "350d2aa9-a549-42a6-96b2-0bc218f3ace0"
   },
   "outputs": [],
   "source": [
    "sns.countplot(train[\"target\"])"
   ]
  },
  {
   "cell_type": "markdown",
   "metadata": {
    "id": "MS4HoTX4cA8l"
   },
   "source": [
    "**THERE IS CLASS IMBALANCE WITH THE TARGET VARIABLE**"
   ]
  },
  {
   "cell_type": "code",
   "execution_count": null,
   "metadata": {
    "colab": {
     "base_uri": "https://localhost:8080/",
     "height": 444
    },
    "id": "wY6x7YNCd-ut",
    "outputId": "da5e1c5f-a0b3-42cf-b62c-2e9dec24c3a7"
   },
   "outputs": [],
   "source": [
    "X[y == 1]"
   ]
  },
  {
   "cell_type": "markdown",
   "metadata": {
    "id": "ZmBkI5ASexBS"
   },
   "source": [
    "**## DEALING WITH CLASS IMBALANCE USING RESAMPLING**"
   ]
  },
  {
   "cell_type": "code",
   "execution_count": null,
   "metadata": {
    "colab": {
     "base_uri": "https://localhost:8080/"
    },
    "id": "VPqu85pjeik-",
    "outputId": "dfd9d61c-eefa-4d37-b03a-95c7b34c930e"
   },
   "outputs": [],
   "source": [
    "print('Number of class 1 samples before:',X[y == 1].shape[0])"
   ]
  },
  {
   "cell_type": "code",
   "execution_count": null,
   "metadata": {
    "colab": {
     "base_uri": "https://localhost:8080/"
    },
    "id": "LcQTzavZe4BE",
    "outputId": "f439e908-5f77-4d5f-ef7f-7fddd7e90f20"
   },
   "outputs": [],
   "source": [
    "print('Number of class 0 samples before:',X[y == 0].shape[0])"
   ]
  },
  {
   "cell_type": "code",
   "execution_count": null,
   "metadata": {
    "colab": {
     "base_uri": "https://localhost:8080/"
    },
    "id": "kMgsiZtBfsdu",
    "outputId": "62d2aec8-322d-4370-b63c-feeece480ff9"
   },
   "outputs": [],
   "source": [
    "X_upsampled, y_upsampled = resample(X[y == 1],y[y == 1],replace=True,n_samples=X[y == 0].shape[0],random_state=123)\n",
    "print('Number of class 1 samples after:',X_upsampled.shape[0])"
   ]
  },
  {
   "cell_type": "code",
   "execution_count": null,
   "metadata": {
    "colab": {
     "base_uri": "https://localhost:8080/"
    },
    "id": "maPABQvsfAwZ",
    "outputId": "0c7b3459-26b9-431d-c825-c2544f8508e6"
   },
   "outputs": [],
   "source": [
    "X_bal = np.vstack((X[y == 0], X_upsampled))\n",
    "y_bal = np.hstack((y[y == 0], y_upsampled))\n",
    "y_pred = np.zeros(y_bal.shape[0])\n",
    "np.mean(y_pred == y_bal) * 100"
   ]
  },
  {
   "cell_type": "code",
   "execution_count": null,
   "metadata": {
    "colab": {
     "base_uri": "https://localhost:8080/"
    },
    "id": "5fFMhUY-f75a",
    "outputId": "531268e7-038e-4751-a4c3-0ca2aaf4a986"
   },
   "outputs": [],
   "source": [
    "# for seed value 45\n",
    "\n",
    "preds, scores = [], []\n",
    " \n",
    "seed = 64\n",
    " \n",
    "Vc = VotingClassifier(estimators=[\n",
    "('cat',  CatBoostClassifier(verbose=False, thread_count=-1, random_state=seed)), \n",
    "('rgf', RGFClassifier()), (\"rgf1\", RGFClassifier(algorithm=\"RGF_Sib\")), ('cat1', CatBoostClassifier(bagging_temperature = 0.8609895558337871, border_count=116, depth=5, iterations=270, l2_leaf_reg=3, \n",
    "                         learning_rate=0.07085617391173239, random_strength=0.08820672130534879, random_state=seed, scale_pos_weight=0.390675124341283, verbose=False, thread_count=-1)),\n",
    "                           \n",
    "('gr' ,GradientBoostingClassifier()),\n",
    "('rg',RandomForestClassifier(n_estimators=500, n_jobs=-1, random_state=seed)), ('rg1', RandomForestClassifier(n_estimators=700, n_jobs=-1, random_state=seed))], \n",
    "voting=\"soft\", weights=[3, 1.5,1.5,1,1,1,1])\n",
    " \n",
    "skf = StratifiedKFold(n_splits=5, shuffle=True, random_state=seed) \n",
    "\n",
    "X = train.drop(['ID', 'target'], axis =1)\n",
    "y = train.target\n",
    "test_x=test.drop('ID', axis =1)\n",
    " \n",
    "i = 5\n",
    "for train_index, test_index in skf.split(X, y):\n",
    "  print(\"Number of splits left {0} to train.\".format(i))\n",
    "  x_train, x_test, y_train, y_test = X.iloc[train_index], X.iloc[test_index], y.iloc[train_index], y.iloc[test_index]\n",
    "  pipe = Pipeline([(\"SC\", MinMaxScaler()), (\"clf\", Vc)])\n",
    "  pipe.fit(x_train, y_train)\n",
    "  score = roc_auc_score(y_test, pipe.predict_proba(x_test)[:, 1])\n",
    "  scores.append(score) \n",
    "  pred = pipe.predict_proba(test_x)[:, 1]\n",
    "  preds.append(pred)\n",
    "  print(score)\n",
    "  i -= 1\n",
    " \n",
    "np.mean(scores)"
   ]
  },
  {
   "cell_type": "code",
   "execution_count": null,
   "metadata": {
    "id": "DxEZiL_Ci8tP"
   },
   "outputs": [],
   "source": []
  },
  {
   "cell_type": "code",
   "execution_count": null,
   "metadata": {
    "id": "q5qkpfamgMNs"
   },
   "outputs": [],
   "source": [
    "ss = pd.read_csv(\"/content/gdrive/My Drive/FIRST_HACKATON/SampleSubmission.csv\")\n",
    "p = np.mean(preds, axis=0)\n",
    "ss[\"target\"] = p\n",
    "ss.to_csv(\"zindi13.csv\", index=False)"
   ]
  },
  {
   "cell_type": "code",
   "execution_count": null,
   "metadata": {
    "id": "JMeWqFPHjfcx"
   },
   "outputs": [],
   "source": []
  }
 ],
 "metadata": {
  "colab": {
   "authorship_tag": "ABX9TyPRvStMMyYBSqNE8f05sXik",
   "include_colab_link": true,
   "name": "Women's Mentorship #1: Hack for Safety by Agence Française de Développement.ipynb",
   "provenance": [],
   "toc_visible": true
  },
  "kernelspec": {
   "display_name": "Python 3",
   "language": "python",
   "name": "python3"
  },
  "language_info": {
   "codemirror_mode": {
    "name": "ipython",
    "version": 3
   },
   "file_extension": ".py",
   "mimetype": "text/x-python",
   "name": "python",
   "nbconvert_exporter": "python",
   "pygments_lexer": "ipython3",
   "version": "3.8.5"
  }
 },
 "nbformat": 4,
 "nbformat_minor": 1
}
