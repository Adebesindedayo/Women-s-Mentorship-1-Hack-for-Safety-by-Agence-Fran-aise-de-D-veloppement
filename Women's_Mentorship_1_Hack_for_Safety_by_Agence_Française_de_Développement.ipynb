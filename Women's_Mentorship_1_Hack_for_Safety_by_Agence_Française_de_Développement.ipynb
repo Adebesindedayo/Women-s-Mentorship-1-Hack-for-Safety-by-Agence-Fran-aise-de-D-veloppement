{
  "nbformat": 4,
  "nbformat_minor": 0,
  "metadata": {
    "colab": {
      "name": "Women's Mentorship #1: Hack for Safety by Agence Française de Développement.ipynb",
      "provenance": [],
      "toc_visible": true,
      "authorship_tag": "ABX9TyPRvStMMyYBSqNE8f05sXik",
      "include_colab_link": true
    },
    "kernelspec": {
      "name": "python3",
      "display_name": "Python 3"
    },
    "language_info": {
      "name": "python"
    }
  },
  "cells": [
    {
      "cell_type": "markdown",
      "metadata": {
        "id": "view-in-github",
        "colab_type": "text"
      },
      "source": [
        "<a href=\"https://colab.research.google.com/github/Adebesindedayo/Women-s-Mentorship-1-Hack-for-Safety-by-Agence-Fran-aise-de-D-veloppement/blob/main/Women's_Mentorship_1_Hack_for_Safety_by_Agence_Fran%C3%A7aise_de_D%C3%A9veloppement.ipynb\" target=\"_parent\"><img src=\"https://colab.research.google.com/assets/colab-badge.svg\" alt=\"Open In Colab\"/></a>"
      ]
    },
    {
      "cell_type": "code",
      "metadata": {
        "colab": {
          "base_uri": "https://localhost:8080/"
        },
        "id": "3yPnnz8w-wfy",
        "outputId": "73b3a696-4d7b-4a56-b92e-b708690a9e91"
      },
      "source": [
        "from google.colab import drive \n",
        "drive.mount('/content/gdrive', force_remount=True)"
      ],
      "execution_count": 1,
      "outputs": [
        {
          "output_type": "stream",
          "text": [
            "Mounted at /content/gdrive\n"
          ],
          "name": "stdout"
        }
      ]
    },
    {
      "cell_type": "code",
      "metadata": {
        "colab": {
          "base_uri": "https://localhost:8080/"
        },
        "id": "apitgq2uQJL-",
        "outputId": "22854baf-2ecb-4c08-ecc1-6d61f296a59c"
      },
      "source": [
        "pip install catboost"
      ],
      "execution_count": 7,
      "outputs": [
        {
          "output_type": "stream",
          "text": [
            "Collecting catboost\n",
            "\u001b[?25l  Downloading https://files.pythonhosted.org/packages/5a/41/24e14322b9986cf72a8763e0a0a69cc256cf963cf9502c8f0044a62c1ae8/catboost-0.26-cp37-none-manylinux1_x86_64.whl (69.2MB)\n",
            "\u001b[K     |████████████████████████████████| 69.2MB 44kB/s \n",
            "\u001b[?25hRequirement already satisfied: pandas>=0.24.0 in /usr/local/lib/python3.7/dist-packages (from catboost) (1.1.5)\n",
            "Requirement already satisfied: scipy in /usr/local/lib/python3.7/dist-packages (from catboost) (1.4.1)\n",
            "Requirement already satisfied: six in /usr/local/lib/python3.7/dist-packages (from catboost) (1.15.0)\n",
            "Requirement already satisfied: matplotlib in /usr/local/lib/python3.7/dist-packages (from catboost) (3.2.2)\n",
            "Requirement already satisfied: graphviz in /usr/local/lib/python3.7/dist-packages (from catboost) (0.10.1)\n",
            "Requirement already satisfied: numpy>=1.16.0 in /usr/local/lib/python3.7/dist-packages (from catboost) (1.19.5)\n",
            "Requirement already satisfied: plotly in /usr/local/lib/python3.7/dist-packages (from catboost) (4.4.1)\n",
            "Requirement already satisfied: pytz>=2017.2 in /usr/local/lib/python3.7/dist-packages (from pandas>=0.24.0->catboost) (2018.9)\n",
            "Requirement already satisfied: python-dateutil>=2.7.3 in /usr/local/lib/python3.7/dist-packages (from pandas>=0.24.0->catboost) (2.8.1)\n",
            "Requirement already satisfied: pyparsing!=2.0.4,!=2.1.2,!=2.1.6,>=2.0.1 in /usr/local/lib/python3.7/dist-packages (from matplotlib->catboost) (2.4.7)\n",
            "Requirement already satisfied: kiwisolver>=1.0.1 in /usr/local/lib/python3.7/dist-packages (from matplotlib->catboost) (1.3.1)\n",
            "Requirement already satisfied: cycler>=0.10 in /usr/local/lib/python3.7/dist-packages (from matplotlib->catboost) (0.10.0)\n",
            "Requirement already satisfied: retrying>=1.3.3 in /usr/local/lib/python3.7/dist-packages (from plotly->catboost) (1.3.3)\n",
            "Installing collected packages: catboost\n",
            "Successfully installed catboost-0.26\n"
          ],
          "name": "stdout"
        }
      ]
    },
    {
      "cell_type": "code",
      "metadata": {
        "colab": {
          "base_uri": "https://localhost:8080/"
        },
        "id": "s21Dib-dVuEY",
        "outputId": "4fafeb8e-5737-43f9-fe94-81632b3ba2a0"
      },
      "source": [
        "!pip install rgf_python\n"
      ],
      "execution_count": 1,
      "outputs": [
        {
          "output_type": "stream",
          "text": [
            "Requirement already satisfied: rgf_python in /usr/local/lib/python3.7/dist-packages (3.10.0)\n",
            "Requirement already satisfied: joblib in /usr/local/lib/python3.7/dist-packages (from rgf_python) (1.0.1)\n",
            "Requirement already satisfied: scikit-learn>=0.18 in /usr/local/lib/python3.7/dist-packages (from rgf_python) (0.22.2.post1)\n",
            "Requirement already satisfied: scipy>=0.17.0 in /usr/local/lib/python3.7/dist-packages (from scikit-learn>=0.18->rgf_python) (1.4.1)\n",
            "Requirement already satisfied: numpy>=1.11.0 in /usr/local/lib/python3.7/dist-packages (from scikit-learn>=0.18->rgf_python) (1.19.5)\n"
          ],
          "name": "stdout"
        }
      ]
    },
    {
      "cell_type": "code",
      "metadata": {
        "id": "oDq8JcdaMuCC"
      },
      "source": [
        "import pandas as pd\n",
        "import numpy as np\n",
        "import seaborn as sns\n",
        "import scipy as sc\n",
        "import matplotlib.pyplot as plt\n",
        "sns.set_style('whitegrid')\n",
        "%matplotlib inline\n",
        "import warnings\n",
        "warnings.filterwarnings('ignore')\n",
        "pd.set_option('display.max_columns',None)\n",
        "from lightgbm import LGBMClassifier\n",
        "from sklearn.utils import resample\n",
        "from sklearn.preprocessing import StandardScaler, MinMaxScaler\n",
        "from catboost import CatBoostClassifier\n",
        "from sklearn.pipeline import Pipeline\n",
        "from rgf.sklearn import RGFClassifier\n",
        "from xgboost import XGBClassifier\n",
        "from lightgbm import LGBMClassifier\n",
        "from sklearn.ensemble import RandomForestClassifier, ExtraTreesClassifier, VotingClassifier,GradientBoostingClassifier\n",
        "from sklearn.model_selection import KFold,train_test_split, StratifiedKFold\n",
        "from sklearn.metrics import roc_auc_score, roc_curve, plot_confusion_matrix, plot_roc_curve\n",
        "from sklearn.preprocessing import LabelEncoder\n",
        "sns.set()\n",
        "pd.set_option('display.max_columns', None)\n"
      ],
      "execution_count": 4,
      "outputs": []
    },
    {
      "cell_type": "code",
      "metadata": {
        "colab": {
          "base_uri": "https://localhost:8080/"
        },
        "id": "QQ7QqnQBVW7l",
        "outputId": "f0241a9a-0df7-4eb7-e852-156f80b66a3a"
      },
      "source": [
        "from google.colab import drive \n",
        "drive.mount('/content/gdrive', force_remount=True)"
      ],
      "execution_count": 9,
      "outputs": [
        {
          "output_type": "stream",
          "text": [
            "Mounted at /content/gdrive\n"
          ],
          "name": "stdout"
        }
      ]
    },
    {
      "cell_type": "markdown",
      "metadata": {
        "id": "10fFz0OjWA6Y"
      },
      "source": [
        "# GETTING ALL THE DATA SET"
      ]
    },
    {
      "cell_type": "code",
      "metadata": {
        "colab": {
          "base_uri": "https://localhost:8080/",
          "height": 556
        },
        "id": "m9CbbHhGFW91",
        "outputId": "d8eaae89-3978-441e-8238-32aced0f19fb"
      },
      "source": [
        "train= pd.read_csv(\"/content/gdrive/My Drive/FIRST_HACKATON/Train.csv\")\n",
        "train.head()\n"
      ],
      "execution_count": 10,
      "outputs": [
        {
          "output_type": "execute_result",
          "data": {
            "text/html": [
              "<div>\n",
              "<style scoped>\n",
              "    .dataframe tbody tr th:only-of-type {\n",
              "        vertical-align: middle;\n",
              "    }\n",
              "\n",
              "    .dataframe tbody tr th {\n",
              "        vertical-align: top;\n",
              "    }\n",
              "\n",
              "    .dataframe thead th {\n",
              "        text-align: right;\n",
              "    }\n",
              "</style>\n",
              "<table border=\"1\" class=\"dataframe\">\n",
              "  <thead>\n",
              "    <tr style=\"text-align: right;\">\n",
              "      <th></th>\n",
              "      <th>ID</th>\n",
              "      <th>gender</th>\n",
              "      <th>age</th>\n",
              "      <th>race</th>\n",
              "      <th>dwelling</th>\n",
              "      <th>dwelling_type</th>\n",
              "      <th>province_code</th>\n",
              "      <th>metro_code</th>\n",
              "      <th>psu</th>\n",
              "      <th>nationality</th>\n",
              "      <th>RTH</th>\n",
              "      <th>marital_st</th>\n",
              "      <th>Lang_inside</th>\n",
              "      <th>Lang_outside</th>\n",
              "      <th>Education</th>\n",
              "      <th>lw_work</th>\n",
              "      <th>lw_business</th>\n",
              "      <th>help_on_household</th>\n",
              "      <th>job_or_business</th>\n",
              "      <th>nature_of_work</th>\n",
              "      <th>target</th>\n",
              "    </tr>\n",
              "  </thead>\n",
              "  <tbody>\n",
              "    <tr>\n",
              "      <th>0</th>\n",
              "      <td>ID_00008683</td>\n",
              "      <td>Female</td>\n",
              "      <td>20</td>\n",
              "      <td>Black African</td>\n",
              "      <td>Dwelling/house or brick/concrete block structu...</td>\n",
              "      <td>Formal</td>\n",
              "      <td>North West</td>\n",
              "      <td>NW - Non Metro</td>\n",
              "      <td>66710095</td>\n",
              "      <td>South Africa</td>\n",
              "      <td>Son/daughter/stepchild/adopted child of person 01</td>\n",
              "      <td>Single and have never been married/never lived...</td>\n",
              "      <td>Xitsonga</td>\n",
              "      <td>Setswana</td>\n",
              "      <td>Grade 11/Standard 9/Form 4</td>\n",
              "      <td>No</td>\n",
              "      <td>No</td>\n",
              "      <td>No</td>\n",
              "      <td>No</td>\n",
              "      <td>Not applicable</td>\n",
              "      <td>0</td>\n",
              "    </tr>\n",
              "    <tr>\n",
              "      <th>1</th>\n",
              "      <td>ID_00061163</td>\n",
              "      <td>Female</td>\n",
              "      <td>42</td>\n",
              "      <td>Black African</td>\n",
              "      <td>Dwelling/house or brick/concrete block structu...</td>\n",
              "      <td>Formal</td>\n",
              "      <td>Limpopo</td>\n",
              "      <td>LP - Non Metro</td>\n",
              "      <td>98510279</td>\n",
              "      <td>South Africa</td>\n",
              "      <td>Other relative (e.g. in-laws or aunt/uncle) of...</td>\n",
              "      <td>Living together like husband and wife</td>\n",
              "      <td>Sepedi</td>\n",
              "      <td>Sepedi</td>\n",
              "      <td>Grade 12/Standard 10/Form 5/Matric (No Exemption)</td>\n",
              "      <td>Yes</td>\n",
              "      <td>No</td>\n",
              "      <td>No</td>\n",
              "      <td>Not applicable</td>\n",
              "      <td>Permanent</td>\n",
              "      <td>0</td>\n",
              "    </tr>\n",
              "    <tr>\n",
              "      <th>2</th>\n",
              "      <td>ID_00071403</td>\n",
              "      <td>Female</td>\n",
              "      <td>86</td>\n",
              "      <td>Black African</td>\n",
              "      <td>Dwelling/house or brick/concrete block structu...</td>\n",
              "      <td>Formal</td>\n",
              "      <td>Eastern Cape</td>\n",
              "      <td>EC - Non Metro</td>\n",
              "      <td>29210321</td>\n",
              "      <td>South Africa</td>\n",
              "      <td>Father/mother/stepfather/stepmother of person 01</td>\n",
              "      <td>Widowed</td>\n",
              "      <td>IsiXhosa</td>\n",
              "      <td>IsiXhosa</td>\n",
              "      <td>Unspecified</td>\n",
              "      <td>No</td>\n",
              "      <td>No</td>\n",
              "      <td>No</td>\n",
              "      <td>No</td>\n",
              "      <td>Not applicable</td>\n",
              "      <td>0</td>\n",
              "    </tr>\n",
              "    <tr>\n",
              "      <th>3</th>\n",
              "      <td>ID_00077803</td>\n",
              "      <td>Female</td>\n",
              "      <td>20</td>\n",
              "      <td>Black African</td>\n",
              "      <td>Town house (semi-detached house in complex)</td>\n",
              "      <td>Formal</td>\n",
              "      <td>KwaZulu-Natal</td>\n",
              "      <td>KZN - eThekwini</td>\n",
              "      <td>59913860</td>\n",
              "      <td>South Africa</td>\n",
              "      <td>Son/daughter/stepchild/adopted child of person 01</td>\n",
              "      <td>Single and have never been married/never lived...</td>\n",
              "      <td>IsiZulu</td>\n",
              "      <td>IsiZulu</td>\n",
              "      <td>Grade 12/Standard 10/Form 5/Matric (No Exemption)</td>\n",
              "      <td>No</td>\n",
              "      <td>No</td>\n",
              "      <td>No</td>\n",
              "      <td>No</td>\n",
              "      <td>Not applicable</td>\n",
              "      <td>0</td>\n",
              "    </tr>\n",
              "    <tr>\n",
              "      <th>4</th>\n",
              "      <td>ID_00086763</td>\n",
              "      <td>Female</td>\n",
              "      <td>26</td>\n",
              "      <td>Black African</td>\n",
              "      <td>Town house (semi-detached house in complex)</td>\n",
              "      <td>Formal</td>\n",
              "      <td>Gauteng</td>\n",
              "      <td>GP - City of Johannesburg</td>\n",
              "      <td>79813828</td>\n",
              "      <td>South Africa</td>\n",
              "      <td>Son/daughter/stepchild/adopted child of person 01</td>\n",
              "      <td>Single and have never been married/never lived...</td>\n",
              "      <td>Setswana</td>\n",
              "      <td>English</td>\n",
              "      <td>Grade 12/Standard 10/Form 5/Matric (No Exemption)</td>\n",
              "      <td>No</td>\n",
              "      <td>No</td>\n",
              "      <td>No</td>\n",
              "      <td>No</td>\n",
              "      <td>Not applicable</td>\n",
              "      <td>0</td>\n",
              "    </tr>\n",
              "  </tbody>\n",
              "</table>\n",
              "</div>"
            ],
            "text/plain": [
              "            ID  gender  age           race  \\\n",
              "0  ID_00008683  Female   20  Black African   \n",
              "1  ID_00061163  Female   42  Black African   \n",
              "2  ID_00071403  Female   86  Black African   \n",
              "3  ID_00077803  Female   20  Black African   \n",
              "4  ID_00086763  Female   26  Black African   \n",
              "\n",
              "                                            dwelling dwelling_type  \\\n",
              "0  Dwelling/house or brick/concrete block structu...        Formal   \n",
              "1  Dwelling/house or brick/concrete block structu...        Formal   \n",
              "2  Dwelling/house or brick/concrete block structu...        Formal   \n",
              "3        Town house (semi-detached house in complex)        Formal   \n",
              "4        Town house (semi-detached house in complex)        Formal   \n",
              "\n",
              "   province_code                 metro_code       psu   nationality  \\\n",
              "0     North West             NW - Non Metro  66710095  South Africa   \n",
              "1        Limpopo             LP - Non Metro  98510279  South Africa   \n",
              "2   Eastern Cape             EC - Non Metro  29210321  South Africa   \n",
              "3  KwaZulu-Natal            KZN - eThekwini  59913860  South Africa   \n",
              "4        Gauteng  GP - City of Johannesburg  79813828  South Africa   \n",
              "\n",
              "                                                 RTH  \\\n",
              "0  Son/daughter/stepchild/adopted child of person 01   \n",
              "1  Other relative (e.g. in-laws or aunt/uncle) of...   \n",
              "2   Father/mother/stepfather/stepmother of person 01   \n",
              "3  Son/daughter/stepchild/adopted child of person 01   \n",
              "4  Son/daughter/stepchild/adopted child of person 01   \n",
              "\n",
              "                                          marital_st Lang_inside Lang_outside  \\\n",
              "0  Single and have never been married/never lived...    Xitsonga     Setswana   \n",
              "1              Living together like husband and wife      Sepedi       Sepedi   \n",
              "2                                            Widowed    IsiXhosa     IsiXhosa   \n",
              "3  Single and have never been married/never lived...     IsiZulu      IsiZulu   \n",
              "4  Single and have never been married/never lived...    Setswana      English   \n",
              "\n",
              "                                           Education lw_work lw_business  \\\n",
              "0                         Grade 11/Standard 9/Form 4      No          No   \n",
              "1  Grade 12/Standard 10/Form 5/Matric (No Exemption)     Yes          No   \n",
              "2                                        Unspecified      No          No   \n",
              "3  Grade 12/Standard 10/Form 5/Matric (No Exemption)      No          No   \n",
              "4  Grade 12/Standard 10/Form 5/Matric (No Exemption)      No          No   \n",
              "\n",
              "  help_on_household job_or_business  nature_of_work  target  \n",
              "0                No              No  Not applicable       0  \n",
              "1                No  Not applicable       Permanent       0  \n",
              "2                No              No  Not applicable       0  \n",
              "3                No              No  Not applicable       0  \n",
              "4                No              No  Not applicable       0  "
            ]
          },
          "metadata": {
            "tags": []
          },
          "execution_count": 10
        }
      ]
    },
    {
      "cell_type": "code",
      "metadata": {
        "colab": {
          "base_uri": "https://localhost:8080/",
          "height": 573
        },
        "id": "jgVvmXONHpTO",
        "outputId": "e923e5ff-caad-4f6d-e2b3-b08d00e8f588"
      },
      "source": [
        "test= pd.read_csv(\"/content/gdrive/My Drive/FIRST_HACKATON/Test.csv\")\n",
        "test.head()\n"
      ],
      "execution_count": 11,
      "outputs": [
        {
          "output_type": "execute_result",
          "data": {
            "text/html": [
              "<div>\n",
              "<style scoped>\n",
              "    .dataframe tbody tr th:only-of-type {\n",
              "        vertical-align: middle;\n",
              "    }\n",
              "\n",
              "    .dataframe tbody tr th {\n",
              "        vertical-align: top;\n",
              "    }\n",
              "\n",
              "    .dataframe thead th {\n",
              "        text-align: right;\n",
              "    }\n",
              "</style>\n",
              "<table border=\"1\" class=\"dataframe\">\n",
              "  <thead>\n",
              "    <tr style=\"text-align: right;\">\n",
              "      <th></th>\n",
              "      <th>ID</th>\n",
              "      <th>gender</th>\n",
              "      <th>age</th>\n",
              "      <th>race</th>\n",
              "      <th>dwelling</th>\n",
              "      <th>dwelling_type</th>\n",
              "      <th>province_code</th>\n",
              "      <th>metro_code</th>\n",
              "      <th>psu</th>\n",
              "      <th>nationality</th>\n",
              "      <th>RTH</th>\n",
              "      <th>marital_st</th>\n",
              "      <th>Lang_inside</th>\n",
              "      <th>Lang_outside</th>\n",
              "      <th>Education</th>\n",
              "      <th>lw_work</th>\n",
              "      <th>lw_business</th>\n",
              "      <th>help_on_household</th>\n",
              "      <th>job_or_business</th>\n",
              "      <th>nature_of_work</th>\n",
              "    </tr>\n",
              "  </thead>\n",
              "  <tbody>\n",
              "    <tr>\n",
              "      <th>0</th>\n",
              "      <td>ID_00241643</td>\n",
              "      <td>Female</td>\n",
              "      <td>23</td>\n",
              "      <td>Coloured</td>\n",
              "      <td>Dwelling/house or brick/concrete block structu...</td>\n",
              "      <td>Formal</td>\n",
              "      <td>Northern Cape</td>\n",
              "      <td>NC - Non Metro</td>\n",
              "      <td>36410104</td>\n",
              "      <td>South Africa</td>\n",
              "      <td>Head/acting head</td>\n",
              "      <td>Single and have never been married/never lived...</td>\n",
              "      <td>Afrikaans</td>\n",
              "      <td>Afrikaans</td>\n",
              "      <td>Grade 10/Standard 8/Form 3</td>\n",
              "      <td>Yes</td>\n",
              "      <td>No</td>\n",
              "      <td>No</td>\n",
              "      <td>Not applicable</td>\n",
              "      <td>Permanent</td>\n",
              "    </tr>\n",
              "    <tr>\n",
              "      <th>1</th>\n",
              "      <td>ID_00312043</td>\n",
              "      <td>Female</td>\n",
              "      <td>64</td>\n",
              "      <td>Black African</td>\n",
              "      <td>Dwelling/house or brick/concrete block structu...</td>\n",
              "      <td>Formal</td>\n",
              "      <td>Limpopo</td>\n",
              "      <td>LP - Non Metro</td>\n",
              "      <td>97410477</td>\n",
              "      <td>South Africa</td>\n",
              "      <td>Head/acting head</td>\n",
              "      <td>Widowed</td>\n",
              "      <td>Afrikaans</td>\n",
              "      <td>Afrikaans</td>\n",
              "      <td>Grade 12/Standard 10/Form 5/Matric (No Exemption)</td>\n",
              "      <td>No</td>\n",
              "      <td>No</td>\n",
              "      <td>No</td>\n",
              "      <td>No</td>\n",
              "      <td>Not applicable</td>\n",
              "    </tr>\n",
              "    <tr>\n",
              "      <th>2</th>\n",
              "      <td>ID_00345323</td>\n",
              "      <td>Female</td>\n",
              "      <td>18</td>\n",
              "      <td>Black African</td>\n",
              "      <td>Unspecified</td>\n",
              "      <td>Unspecified</td>\n",
              "      <td>Eastern Cape</td>\n",
              "      <td>EC - Buffalo City</td>\n",
              "      <td>26011572</td>\n",
              "      <td>South Africa</td>\n",
              "      <td>Son/daughter/stepchild/adopted child of person 01</td>\n",
              "      <td>Single and have never been married/never lived...</td>\n",
              "      <td>IsiXhosa</td>\n",
              "      <td>IsiXhosa</td>\n",
              "      <td>Grade 11/Standard 9/Form 4</td>\n",
              "      <td>No</td>\n",
              "      <td>No</td>\n",
              "      <td>No</td>\n",
              "      <td>No</td>\n",
              "      <td>Not applicable</td>\n",
              "    </tr>\n",
              "    <tr>\n",
              "      <th>3</th>\n",
              "      <td>ID_00369643</td>\n",
              "      <td>Female</td>\n",
              "      <td>19</td>\n",
              "      <td>Black African</td>\n",
              "      <td>Dwelling/house or brick/concrete block structu...</td>\n",
              "      <td>Formal</td>\n",
              "      <td>Mpumalanga</td>\n",
              "      <td>MP - Non Metro</td>\n",
              "      <td>87710674</td>\n",
              "      <td>South Africa</td>\n",
              "      <td>Son/daughter/stepchild/adopted child of person 01</td>\n",
              "      <td>Single and have never been married/never lived...</td>\n",
              "      <td>Xitsonga</td>\n",
              "      <td>Sepedi</td>\n",
              "      <td>Grade 12/Standard 10/Form 5/Matric (No Exemption)</td>\n",
              "      <td>No</td>\n",
              "      <td>No</td>\n",
              "      <td>No</td>\n",
              "      <td>No</td>\n",
              "      <td>Not applicable</td>\n",
              "    </tr>\n",
              "    <tr>\n",
              "      <th>4</th>\n",
              "      <td>ID_00381163</td>\n",
              "      <td>Female</td>\n",
              "      <td>24</td>\n",
              "      <td>Black African</td>\n",
              "      <td>Dwelling/house or brick/concrete block structu...</td>\n",
              "      <td>Formal</td>\n",
              "      <td>Mpumalanga</td>\n",
              "      <td>MP - Non Metro</td>\n",
              "      <td>87411106</td>\n",
              "      <td>South Africa</td>\n",
              "      <td>Head/acting head</td>\n",
              "      <td>Single and have never been married/never lived...</td>\n",
              "      <td>SiSwati</td>\n",
              "      <td>SiSwati</td>\n",
              "      <td>Grade 11/Standard 9/Form 4</td>\n",
              "      <td>No</td>\n",
              "      <td>No</td>\n",
              "      <td>No</td>\n",
              "      <td>No</td>\n",
              "      <td>Not applicable</td>\n",
              "    </tr>\n",
              "  </tbody>\n",
              "</table>\n",
              "</div>"
            ],
            "text/plain": [
              "            ID  gender  age           race  \\\n",
              "0  ID_00241643  Female   23       Coloured   \n",
              "1  ID_00312043  Female   64  Black African   \n",
              "2  ID_00345323  Female   18  Black African   \n",
              "3  ID_00369643  Female   19  Black African   \n",
              "4  ID_00381163  Female   24  Black African   \n",
              "\n",
              "                                            dwelling dwelling_type  \\\n",
              "0  Dwelling/house or brick/concrete block structu...        Formal   \n",
              "1  Dwelling/house or brick/concrete block structu...        Formal   \n",
              "2                                        Unspecified   Unspecified   \n",
              "3  Dwelling/house or brick/concrete block structu...        Formal   \n",
              "4  Dwelling/house or brick/concrete block structu...        Formal   \n",
              "\n",
              "   province_code         metro_code       psu   nationality  \\\n",
              "0  Northern Cape     NC - Non Metro  36410104  South Africa   \n",
              "1        Limpopo     LP - Non Metro  97410477  South Africa   \n",
              "2   Eastern Cape  EC - Buffalo City  26011572  South Africa   \n",
              "3     Mpumalanga     MP - Non Metro  87710674  South Africa   \n",
              "4     Mpumalanga     MP - Non Metro  87411106  South Africa   \n",
              "\n",
              "                                                 RTH  \\\n",
              "0                                   Head/acting head   \n",
              "1                                   Head/acting head   \n",
              "2  Son/daughter/stepchild/adopted child of person 01   \n",
              "3  Son/daughter/stepchild/adopted child of person 01   \n",
              "4                                   Head/acting head   \n",
              "\n",
              "                                          marital_st Lang_inside Lang_outside  \\\n",
              "0  Single and have never been married/never lived...   Afrikaans    Afrikaans   \n",
              "1                                            Widowed   Afrikaans    Afrikaans   \n",
              "2  Single and have never been married/never lived...    IsiXhosa     IsiXhosa   \n",
              "3  Single and have never been married/never lived...    Xitsonga       Sepedi   \n",
              "4  Single and have never been married/never lived...     SiSwati      SiSwati   \n",
              "\n",
              "                                           Education lw_work lw_business  \\\n",
              "0                         Grade 10/Standard 8/Form 3     Yes          No   \n",
              "1  Grade 12/Standard 10/Form 5/Matric (No Exemption)      No          No   \n",
              "2                         Grade 11/Standard 9/Form 4      No          No   \n",
              "3  Grade 12/Standard 10/Form 5/Matric (No Exemption)      No          No   \n",
              "4                         Grade 11/Standard 9/Form 4      No          No   \n",
              "\n",
              "  help_on_household job_or_business  nature_of_work  \n",
              "0                No  Not applicable       Permanent  \n",
              "1                No              No  Not applicable  \n",
              "2                No              No  Not applicable  \n",
              "3                No              No  Not applicable  \n",
              "4                No              No  Not applicable  "
            ]
          },
          "metadata": {
            "tags": []
          },
          "execution_count": 11
        }
      ]
    },
    {
      "cell_type": "markdown",
      "metadata": {
        "id": "6N8t_Y3yWWBQ"
      },
      "source": [
        " ## BASIC EXPLORATORY DATA ANALYSIS\n"
      ]
    },
    {
      "cell_type": "code",
      "metadata": {
        "colab": {
          "base_uri": "https://localhost:8080/",
          "height": 484
        },
        "id": "hq5VsLR8WUzY",
        "outputId": "b93f8ad3-f9c9-49d1-d0b9-e16063f9f226"
      },
      "source": [
        "train.describe(include='all')"
      ],
      "execution_count": 12,
      "outputs": [
        {
          "output_type": "execute_result",
          "data": {
            "text/html": [
              "<div>\n",
              "<style scoped>\n",
              "    .dataframe tbody tr th:only-of-type {\n",
              "        vertical-align: middle;\n",
              "    }\n",
              "\n",
              "    .dataframe tbody tr th {\n",
              "        vertical-align: top;\n",
              "    }\n",
              "\n",
              "    .dataframe thead th {\n",
              "        text-align: right;\n",
              "    }\n",
              "</style>\n",
              "<table border=\"1\" class=\"dataframe\">\n",
              "  <thead>\n",
              "    <tr style=\"text-align: right;\">\n",
              "      <th></th>\n",
              "      <th>ID</th>\n",
              "      <th>gender</th>\n",
              "      <th>age</th>\n",
              "      <th>race</th>\n",
              "      <th>dwelling</th>\n",
              "      <th>dwelling_type</th>\n",
              "      <th>province_code</th>\n",
              "      <th>metro_code</th>\n",
              "      <th>psu</th>\n",
              "      <th>nationality</th>\n",
              "      <th>RTH</th>\n",
              "      <th>marital_st</th>\n",
              "      <th>Lang_inside</th>\n",
              "      <th>Lang_outside</th>\n",
              "      <th>Education</th>\n",
              "      <th>lw_work</th>\n",
              "      <th>lw_business</th>\n",
              "      <th>help_on_household</th>\n",
              "      <th>job_or_business</th>\n",
              "      <th>nature_of_work</th>\n",
              "      <th>target</th>\n",
              "    </tr>\n",
              "  </thead>\n",
              "  <tbody>\n",
              "    <tr>\n",
              "      <th>count</th>\n",
              "      <td>7736</td>\n",
              "      <td>7736</td>\n",
              "      <td>7736.000000</td>\n",
              "      <td>7736</td>\n",
              "      <td>7736</td>\n",
              "      <td>7736</td>\n",
              "      <td>7736</td>\n",
              "      <td>7736</td>\n",
              "      <td>7.736000e+03</td>\n",
              "      <td>7736</td>\n",
              "      <td>7736</td>\n",
              "      <td>7736</td>\n",
              "      <td>7736</td>\n",
              "      <td>7736</td>\n",
              "      <td>7736</td>\n",
              "      <td>7736</td>\n",
              "      <td>7736</td>\n",
              "      <td>7736</td>\n",
              "      <td>7736</td>\n",
              "      <td>7736</td>\n",
              "      <td>7736.000000</td>\n",
              "    </tr>\n",
              "    <tr>\n",
              "      <th>unique</th>\n",
              "      <td>7736</td>\n",
              "      <td>1</td>\n",
              "      <td>NaN</td>\n",
              "      <td>4</td>\n",
              "      <td>13</td>\n",
              "      <td>3</td>\n",
              "      <td>9</td>\n",
              "      <td>17</td>\n",
              "      <td>NaN</td>\n",
              "      <td>3</td>\n",
              "      <td>10</td>\n",
              "      <td>8</td>\n",
              "      <td>15</td>\n",
              "      <td>14</td>\n",
              "      <td>33</td>\n",
              "      <td>4</td>\n",
              "      <td>4</td>\n",
              "      <td>4</td>\n",
              "      <td>5</td>\n",
              "      <td>8</td>\n",
              "      <td>NaN</td>\n",
              "    </tr>\n",
              "    <tr>\n",
              "      <th>top</th>\n",
              "      <td>ID_28292843</td>\n",
              "      <td>Female</td>\n",
              "      <td>NaN</td>\n",
              "      <td>Black African</td>\n",
              "      <td>Dwelling/house or brick/concrete block structu...</td>\n",
              "      <td>Formal</td>\n",
              "      <td>Gauteng</td>\n",
              "      <td>KZN - Non Metro</td>\n",
              "      <td>NaN</td>\n",
              "      <td>South Africa</td>\n",
              "      <td>Head/acting head</td>\n",
              "      <td>Single and have never been married/never lived...</td>\n",
              "      <td>IsiZulu</td>\n",
              "      <td>IsiZulu</td>\n",
              "      <td>Grade 12/Standard 10/Form 5/Matric (No Exemption)</td>\n",
              "      <td>No</td>\n",
              "      <td>No</td>\n",
              "      <td>No</td>\n",
              "      <td>No</td>\n",
              "      <td>Not applicable</td>\n",
              "      <td>NaN</td>\n",
              "    </tr>\n",
              "    <tr>\n",
              "      <th>freq</th>\n",
              "      <td>1</td>\n",
              "      <td>7736</td>\n",
              "      <td>NaN</td>\n",
              "      <td>6312</td>\n",
              "      <td>5213</td>\n",
              "      <td>6841</td>\n",
              "      <td>1775</td>\n",
              "      <td>872</td>\n",
              "      <td>NaN</td>\n",
              "      <td>7346</td>\n",
              "      <td>3679</td>\n",
              "      <td>3246</td>\n",
              "      <td>1677</td>\n",
              "      <td>1651</td>\n",
              "      <td>1918</td>\n",
              "      <td>5062</td>\n",
              "      <td>7263</td>\n",
              "      <td>7692</td>\n",
              "      <td>4470</td>\n",
              "      <td>4473</td>\n",
              "      <td>NaN</td>\n",
              "    </tr>\n",
              "    <tr>\n",
              "      <th>mean</th>\n",
              "      <td>NaN</td>\n",
              "      <td>NaN</td>\n",
              "      <td>42.193252</td>\n",
              "      <td>NaN</td>\n",
              "      <td>NaN</td>\n",
              "      <td>NaN</td>\n",
              "      <td>NaN</td>\n",
              "      <td>NaN</td>\n",
              "      <td>6.078730e+07</td>\n",
              "      <td>NaN</td>\n",
              "      <td>NaN</td>\n",
              "      <td>NaN</td>\n",
              "      <td>NaN</td>\n",
              "      <td>NaN</td>\n",
              "      <td>NaN</td>\n",
              "      <td>NaN</td>\n",
              "      <td>NaN</td>\n",
              "      <td>NaN</td>\n",
              "      <td>NaN</td>\n",
              "      <td>NaN</td>\n",
              "      <td>0.078206</td>\n",
              "    </tr>\n",
              "    <tr>\n",
              "      <th>std</th>\n",
              "      <td>NaN</td>\n",
              "      <td>NaN</td>\n",
              "      <td>17.269251</td>\n",
              "      <td>NaN</td>\n",
              "      <td>NaN</td>\n",
              "      <td>NaN</td>\n",
              "      <td>NaN</td>\n",
              "      <td>NaN</td>\n",
              "      <td>2.548540e+07</td>\n",
              "      <td>NaN</td>\n",
              "      <td>NaN</td>\n",
              "      <td>NaN</td>\n",
              "      <td>NaN</td>\n",
              "      <td>NaN</td>\n",
              "      <td>NaN</td>\n",
              "      <td>NaN</td>\n",
              "      <td>NaN</td>\n",
              "      <td>NaN</td>\n",
              "      <td>NaN</td>\n",
              "      <td>NaN</td>\n",
              "      <td>0.268513</td>\n",
              "    </tr>\n",
              "    <tr>\n",
              "      <th>min</th>\n",
              "      <td>NaN</td>\n",
              "      <td>NaN</td>\n",
              "      <td>16.000000</td>\n",
              "      <td>NaN</td>\n",
              "      <td>NaN</td>\n",
              "      <td>NaN</td>\n",
              "      <td>NaN</td>\n",
              "      <td>NaN</td>\n",
              "      <td>1.601007e+07</td>\n",
              "      <td>NaN</td>\n",
              "      <td>NaN</td>\n",
              "      <td>NaN</td>\n",
              "      <td>NaN</td>\n",
              "      <td>NaN</td>\n",
              "      <td>NaN</td>\n",
              "      <td>NaN</td>\n",
              "      <td>NaN</td>\n",
              "      <td>NaN</td>\n",
              "      <td>NaN</td>\n",
              "      <td>NaN</td>\n",
              "      <td>0.000000</td>\n",
              "    </tr>\n",
              "    <tr>\n",
              "      <th>25%</th>\n",
              "      <td>NaN</td>\n",
              "      <td>NaN</td>\n",
              "      <td>29.000000</td>\n",
              "      <td>NaN</td>\n",
              "      <td>NaN</td>\n",
              "      <td>NaN</td>\n",
              "      <td>NaN</td>\n",
              "      <td>NaN</td>\n",
              "      <td>3.681004e+07</td>\n",
              "      <td>NaN</td>\n",
              "      <td>NaN</td>\n",
              "      <td>NaN</td>\n",
              "      <td>NaN</td>\n",
              "      <td>NaN</td>\n",
              "      <td>NaN</td>\n",
              "      <td>NaN</td>\n",
              "      <td>NaN</td>\n",
              "      <td>NaN</td>\n",
              "      <td>NaN</td>\n",
              "      <td>NaN</td>\n",
              "      <td>0.000000</td>\n",
              "    </tr>\n",
              "    <tr>\n",
              "      <th>50%</th>\n",
              "      <td>NaN</td>\n",
              "      <td>NaN</td>\n",
              "      <td>39.000000</td>\n",
              "      <td>NaN</td>\n",
              "      <td>NaN</td>\n",
              "      <td>NaN</td>\n",
              "      <td>NaN</td>\n",
              "      <td>NaN</td>\n",
              "      <td>5.991442e+07</td>\n",
              "      <td>NaN</td>\n",
              "      <td>NaN</td>\n",
              "      <td>NaN</td>\n",
              "      <td>NaN</td>\n",
              "      <td>NaN</td>\n",
              "      <td>NaN</td>\n",
              "      <td>NaN</td>\n",
              "      <td>NaN</td>\n",
              "      <td>NaN</td>\n",
              "      <td>NaN</td>\n",
              "      <td>NaN</td>\n",
              "      <td>0.000000</td>\n",
              "    </tr>\n",
              "    <tr>\n",
              "      <th>75%</th>\n",
              "      <td>NaN</td>\n",
              "      <td>NaN</td>\n",
              "      <td>54.000000</td>\n",
              "      <td>NaN</td>\n",
              "      <td>NaN</td>\n",
              "      <td>NaN</td>\n",
              "      <td>NaN</td>\n",
              "      <td>NaN</td>\n",
              "      <td>7.991039e+07</td>\n",
              "      <td>NaN</td>\n",
              "      <td>NaN</td>\n",
              "      <td>NaN</td>\n",
              "      <td>NaN</td>\n",
              "      <td>NaN</td>\n",
              "      <td>NaN</td>\n",
              "      <td>NaN</td>\n",
              "      <td>NaN</td>\n",
              "      <td>NaN</td>\n",
              "      <td>NaN</td>\n",
              "      <td>NaN</td>\n",
              "      <td>0.000000</td>\n",
              "    </tr>\n",
              "    <tr>\n",
              "      <th>max</th>\n",
              "      <td>NaN</td>\n",
              "      <td>NaN</td>\n",
              "      <td>102.000000</td>\n",
              "      <td>NaN</td>\n",
              "      <td>NaN</td>\n",
              "      <td>NaN</td>\n",
              "      <td>NaN</td>\n",
              "      <td>NaN</td>\n",
              "      <td>9.871054e+07</td>\n",
              "      <td>NaN</td>\n",
              "      <td>NaN</td>\n",
              "      <td>NaN</td>\n",
              "      <td>NaN</td>\n",
              "      <td>NaN</td>\n",
              "      <td>NaN</td>\n",
              "      <td>NaN</td>\n",
              "      <td>NaN</td>\n",
              "      <td>NaN</td>\n",
              "      <td>NaN</td>\n",
              "      <td>NaN</td>\n",
              "      <td>1.000000</td>\n",
              "    </tr>\n",
              "  </tbody>\n",
              "</table>\n",
              "</div>"
            ],
            "text/plain": [
              "                 ID  gender          age           race  \\\n",
              "count          7736    7736  7736.000000           7736   \n",
              "unique         7736       1          NaN              4   \n",
              "top     ID_28292843  Female          NaN  Black African   \n",
              "freq              1    7736          NaN           6312   \n",
              "mean            NaN     NaN    42.193252            NaN   \n",
              "std             NaN     NaN    17.269251            NaN   \n",
              "min             NaN     NaN    16.000000            NaN   \n",
              "25%             NaN     NaN    29.000000            NaN   \n",
              "50%             NaN     NaN    39.000000            NaN   \n",
              "75%             NaN     NaN    54.000000            NaN   \n",
              "max             NaN     NaN   102.000000            NaN   \n",
              "\n",
              "                                                 dwelling dwelling_type  \\\n",
              "count                                                7736          7736   \n",
              "unique                                                 13             3   \n",
              "top     Dwelling/house or brick/concrete block structu...        Formal   \n",
              "freq                                                 5213          6841   \n",
              "mean                                                  NaN           NaN   \n",
              "std                                                   NaN           NaN   \n",
              "min                                                   NaN           NaN   \n",
              "25%                                                   NaN           NaN   \n",
              "50%                                                   NaN           NaN   \n",
              "75%                                                   NaN           NaN   \n",
              "max                                                   NaN           NaN   \n",
              "\n",
              "       province_code       metro_code           psu   nationality  \\\n",
              "count           7736             7736  7.736000e+03          7736   \n",
              "unique             9               17           NaN             3   \n",
              "top          Gauteng  KZN - Non Metro           NaN  South Africa   \n",
              "freq            1775              872           NaN          7346   \n",
              "mean             NaN              NaN  6.078730e+07           NaN   \n",
              "std              NaN              NaN  2.548540e+07           NaN   \n",
              "min              NaN              NaN  1.601007e+07           NaN   \n",
              "25%              NaN              NaN  3.681004e+07           NaN   \n",
              "50%              NaN              NaN  5.991442e+07           NaN   \n",
              "75%              NaN              NaN  7.991039e+07           NaN   \n",
              "max              NaN              NaN  9.871054e+07           NaN   \n",
              "\n",
              "                     RTH                                         marital_st  \\\n",
              "count               7736                                               7736   \n",
              "unique                10                                                  8   \n",
              "top     Head/acting head  Single and have never been married/never lived...   \n",
              "freq                3679                                               3246   \n",
              "mean                 NaN                                                NaN   \n",
              "std                  NaN                                                NaN   \n",
              "min                  NaN                                                NaN   \n",
              "25%                  NaN                                                NaN   \n",
              "50%                  NaN                                                NaN   \n",
              "75%                  NaN                                                NaN   \n",
              "max                  NaN                                                NaN   \n",
              "\n",
              "       Lang_inside Lang_outside  \\\n",
              "count         7736         7736   \n",
              "unique          15           14   \n",
              "top        IsiZulu      IsiZulu   \n",
              "freq          1677         1651   \n",
              "mean           NaN          NaN   \n",
              "std            NaN          NaN   \n",
              "min            NaN          NaN   \n",
              "25%            NaN          NaN   \n",
              "50%            NaN          NaN   \n",
              "75%            NaN          NaN   \n",
              "max            NaN          NaN   \n",
              "\n",
              "                                                Education lw_work lw_business  \\\n",
              "count                                                7736    7736        7736   \n",
              "unique                                                 33       4           4   \n",
              "top     Grade 12/Standard 10/Form 5/Matric (No Exemption)      No          No   \n",
              "freq                                                 1918    5062        7263   \n",
              "mean                                                  NaN     NaN         NaN   \n",
              "std                                                   NaN     NaN         NaN   \n",
              "min                                                   NaN     NaN         NaN   \n",
              "25%                                                   NaN     NaN         NaN   \n",
              "50%                                                   NaN     NaN         NaN   \n",
              "75%                                                   NaN     NaN         NaN   \n",
              "max                                                   NaN     NaN         NaN   \n",
              "\n",
              "       help_on_household job_or_business  nature_of_work       target  \n",
              "count               7736            7736            7736  7736.000000  \n",
              "unique                 4               5               8          NaN  \n",
              "top                   No              No  Not applicable          NaN  \n",
              "freq                7692            4470            4473          NaN  \n",
              "mean                 NaN             NaN             NaN     0.078206  \n",
              "std                  NaN             NaN             NaN     0.268513  \n",
              "min                  NaN             NaN             NaN     0.000000  \n",
              "25%                  NaN             NaN             NaN     0.000000  \n",
              "50%                  NaN             NaN             NaN     0.000000  \n",
              "75%                  NaN             NaN             NaN     0.000000  \n",
              "max                  NaN             NaN             NaN     1.000000  "
            ]
          },
          "metadata": {
            "tags": []
          },
          "execution_count": 12
        }
      ]
    },
    {
      "cell_type": "code",
      "metadata": {
        "colab": {
          "base_uri": "https://localhost:8080/"
        },
        "id": "-hNxaCZpWpTB",
        "outputId": "9b9f2eaf-41e6-4066-d89c-0fcb0f649d4f"
      },
      "source": [
        "train.info()\n",
        "#all except the target variable is a categorical data"
      ],
      "execution_count": 13,
      "outputs": [
        {
          "output_type": "stream",
          "text": [
            "<class 'pandas.core.frame.DataFrame'>\n",
            "RangeIndex: 7736 entries, 0 to 7735\n",
            "Data columns (total 21 columns):\n",
            " #   Column             Non-Null Count  Dtype \n",
            "---  ------             --------------  ----- \n",
            " 0   ID                 7736 non-null   object\n",
            " 1   gender             7736 non-null   object\n",
            " 2   age                7736 non-null   int64 \n",
            " 3   race               7736 non-null   object\n",
            " 4   dwelling           7736 non-null   object\n",
            " 5   dwelling_type      7736 non-null   object\n",
            " 6   province_code      7736 non-null   object\n",
            " 7   metro_code         7736 non-null   object\n",
            " 8   psu                7736 non-null   int64 \n",
            " 9   nationality        7736 non-null   object\n",
            " 10  RTH                7736 non-null   object\n",
            " 11  marital_st         7736 non-null   object\n",
            " 12  Lang_inside        7736 non-null   object\n",
            " 13  Lang_outside       7736 non-null   object\n",
            " 14  Education          7736 non-null   object\n",
            " 15  lw_work            7736 non-null   object\n",
            " 16  lw_business        7736 non-null   object\n",
            " 17  help_on_household  7736 non-null   object\n",
            " 18  job_or_business    7736 non-null   object\n",
            " 19  nature_of_work     7736 non-null   object\n",
            " 20  target             7736 non-null   int64 \n",
            "dtypes: int64(3), object(18)\n",
            "memory usage: 1.2+ MB\n"
          ],
          "name": "stdout"
        }
      ]
    },
    {
      "cell_type": "code",
      "metadata": {
        "colab": {
          "base_uri": "https://localhost:8080/"
        },
        "id": "jnQfrVH7Xaiu",
        "outputId": "5d20e20f-41e2-45b2-82af-953d14e6df07"
      },
      "source": [
        "train.columns"
      ],
      "execution_count": 14,
      "outputs": [
        {
          "output_type": "execute_result",
          "data": {
            "text/plain": [
              "Index(['ID', 'gender', 'age', 'race', 'dwelling', 'dwelling_type',\n",
              "       'province_code', 'metro_code', 'psu', 'nationality', 'RTH',\n",
              "       'marital_st', 'Lang_inside', 'Lang_outside', 'Education', 'lw_work',\n",
              "       'lw_business', 'help_on_household', 'job_or_business', 'nature_of_work',\n",
              "       'target'],\n",
              "      dtype='object')"
            ]
          },
          "metadata": {
            "tags": []
          },
          "execution_count": 14
        }
      ]
    },
    {
      "cell_type": "code",
      "metadata": {
        "colab": {
          "base_uri": "https://localhost:8080/"
        },
        "id": "y5pz2Q0BXwGc",
        "outputId": "2fd05625-7821-462a-e9b8-02dfc7d290f6"
      },
      "source": [
        "train.shape"
      ],
      "execution_count": 15,
      "outputs": [
        {
          "output_type": "execute_result",
          "data": {
            "text/plain": [
              "(7736, 21)"
            ]
          },
          "metadata": {
            "tags": []
          },
          "execution_count": 15
        }
      ]
    },
    {
      "cell_type": "markdown",
      "metadata": {
        "id": "JoH1RbYSatoR"
      },
      "source": [
        "**## HANDLING OF CATEGORICAL VARIABLE OF THE TRAIN AND TEST DATA SET USING LABEL ENCODING**"
      ]
    },
    {
      "cell_type": "code",
      "metadata": {
        "id": "w2uyKqAKaxZv"
      },
      "source": [
        "le = LabelEncoder()"
      ],
      "execution_count": 16,
      "outputs": []
    },
    {
      "cell_type": "code",
      "metadata": {
        "id": "iAGjAJZCa18M"
      },
      "source": [
        "train.gender = le.fit_transform(train.gender).astype(np.uint8)\n",
        "test.gender = le.fit_transform(test.gender).astype(np.uint8)\n",
        "\n",
        "train.race = le.fit_transform(train.race).astype(np.uint8)\n",
        "test.race = le.fit_transform(test.race).astype(np.uint8)\n",
        "\n",
        "train.dwelling = le.fit_transform(train.dwelling).astype(np.uint8)\n",
        "test.dwelling = le.fit_transform(test.dwelling).astype(np.uint8)\n",
        "\n",
        "train.dwelling_type = le.fit_transform(train.dwelling_type).astype(np.uint8)\n",
        "test.dwelling_type = le.fit_transform(test.dwelling_type).astype(np.uint8)\n",
        "\n",
        "train.province_code = le.fit_transform(train.province_code).astype(np.uint8)\n",
        "test.province_code = le.fit_transform(test.province_code).astype(np.uint8)\n",
        "\n",
        "train.metro_code = le.fit_transform(train.metro_code).astype(np.uint8)\n",
        "test.metro_code = le.fit_transform(test.metro_code).astype(np.uint8)\n",
        "\n",
        "train.nationality= le.fit_transform(train.nationality\t).astype(np.uint8)\n",
        "test.nationality = le.fit_transform(test.nationality\t).astype(np.uint8)\n",
        "\n",
        "train.RTH= le.fit_transform(train.RTH).astype(np.uint8)\n",
        "test.RTH= le.fit_transform(test.RTH).astype(np.uint8)\n",
        "\n",
        "train.marital_st= le.fit_transform(train.marital_st).astype(np.uint8)\n",
        "test.marital_st= le.fit_transform(test.marital_st).astype(np.uint8)\n",
        "\n",
        "train.Lang_inside\t= le.fit_transform(train.Lang_inside\t).astype(np.uint8)\n",
        "test.Lang_inside= le.fit_transform(test.Lang_inside\t).astype(np.uint8)\n",
        "\n",
        "train.Lang_outside= le.fit_transform(train.Lang_outside\t).astype(np.uint8)\n",
        "test.Lang_outside\t= le.fit_transform(test.Lang_outside).astype(np.uint8)\n",
        "\n",
        "train.Education= le.fit_transform(train.Education).astype(np.uint8)\n",
        "test.Education= le.fit_transform(test.Education).astype(np.uint8)\n",
        "\n",
        "train.nature_of_work= le.fit_transform(train.nature_of_work\t).astype(np.uint8)\n",
        "test.nature_of_work= le.fit_transform(test.nature_of_work\t).astype(np.uint8)\n",
        "\n",
        "train.lw_business= le.fit_transform(train.lw_business).astype(np.uint8)\n",
        "test.lw_business= le.fit_transform(test.lw_business\t).astype(np.uint8)\n",
        "\n",
        "train.lw_work= le.fit_transform(train.lw_work).astype(np.uint8)\n",
        "test.lw_work= le.fit_transform(test.lw_work).astype(np.uint8)\n",
        "\n",
        "train.help_on_household\t= le.fit_transform(train.help_on_household).astype(np.uint8)\n",
        "test.help_on_household= le.fit_transform(test.help_on_household).astype(np.uint8)\n",
        "\n",
        "train.job_or_business= le.fit_transform(train.job_or_business).astype(np.uint8)\n",
        "test.job_or_business= le.fit_transform(test.job_or_business).astype(np.uint8)"
      ],
      "execution_count": 17,
      "outputs": []
    },
    {
      "cell_type": "markdown",
      "metadata": {
        "id": "L4qmq0NubLNW"
      },
      "source": [
        "**##  SETTING THE FEATURES AND THE LABEL AS X AND Y RESPECTIVELY**"
      ]
    },
    {
      "cell_type": "code",
      "metadata": {
        "id": "s30wu-e0bKWd"
      },
      "source": [
        "X = train.drop(['ID', 'target'], axis =1)\n",
        "y = train.target"
      ],
      "execution_count": 18,
      "outputs": []
    },
    {
      "cell_type": "markdown",
      "metadata": {
        "id": "1owyJKG2bbxW"
      },
      "source": [
        "**DATA VISUALIZATION OF THE TARGET VARIABLE**"
      ]
    },
    {
      "cell_type": "code",
      "metadata": {
        "colab": {
          "base_uri": "https://localhost:8080/",
          "height": 302
        },
        "id": "g2FuALHCa6Uk",
        "outputId": "350d2aa9-a549-42a6-96b2-0bc218f3ace0"
      },
      "source": [
        "sns.countplot(train[\"target\"])"
      ],
      "execution_count": 19,
      "outputs": [
        {
          "output_type": "execute_result",
          "data": {
            "text/plain": [
              "<matplotlib.axes._subplots.AxesSubplot at 0x7f92d1162d10>"
            ]
          },
          "metadata": {
            "tags": []
          },
          "execution_count": 19
        },
        {
          "output_type": "display_data",
          "data": {
            "image/png": "[encoded data removed]",
            "text/plain": [
              "<Figure size 432x288 with 1 Axes>"
            ]
          },
          "metadata": {
            "tags": []
          }
        }
      ]
    },
    {
      "cell_type": "markdown",
      "metadata": {
        "id": "MS4HoTX4cA8l"
      },
      "source": [
        "**THERE IS CLASS IMBALANCE WITH THE TARGET VARIABLE**"
      ]
    },
    {
      "cell_type": "code",
      "metadata": {
        "colab": {
          "base_uri": "https://localhost:8080/",
          "height": 444
        },
        "id": "wY6x7YNCd-ut",
        "outputId": "da5e1c5f-a0b3-42cf-b62c-2e9dec24c3a7"
      },
      "source": [
        "X[y == 1]"
      ],
      "execution_count": 20,
      "outputs": [
        {
          "output_type": "execute_result",
          "data": {
            "text/html": [
              "<div>\n",
              "<style scoped>\n",
              "    .dataframe tbody tr th:only-of-type {\n",
              "        vertical-align: middle;\n",
              "    }\n",
              "\n",
              "    .dataframe tbody tr th {\n",
              "        vertical-align: top;\n",
              "    }\n",
              "\n",
              "    .dataframe thead th {\n",
              "        text-align: right;\n",
              "    }\n",
              "</style>\n",
              "<table border=\"1\" class=\"dataframe\">\n",
              "  <thead>\n",
              "    <tr style=\"text-align: right;\">\n",
              "      <th></th>\n",
              "      <th>gender</th>\n",
              "      <th>age</th>\n",
              "      <th>race</th>\n",
              "      <th>dwelling</th>\n",
              "      <th>dwelling_type</th>\n",
              "      <th>province_code</th>\n",
              "      <th>metro_code</th>\n",
              "      <th>psu</th>\n",
              "      <th>nationality</th>\n",
              "      <th>RTH</th>\n",
              "      <th>marital_st</th>\n",
              "      <th>Lang_inside</th>\n",
              "      <th>Lang_outside</th>\n",
              "      <th>Education</th>\n",
              "      <th>lw_work</th>\n",
              "      <th>lw_business</th>\n",
              "      <th>help_on_household</th>\n",
              "      <th>job_or_business</th>\n",
              "      <th>nature_of_work</th>\n",
              "    </tr>\n",
              "  </thead>\n",
              "  <tbody>\n",
              "    <tr>\n",
              "      <th>12</th>\n",
              "      <td>0</td>\n",
              "      <td>52</td>\n",
              "      <td>0</td>\n",
              "      <td>2</td>\n",
              "      <td>0</td>\n",
              "      <td>1</td>\n",
              "      <td>3</td>\n",
              "      <td>49910888</td>\n",
              "      <td>1</td>\n",
              "      <td>4</td>\n",
              "      <td>0</td>\n",
              "      <td>8</td>\n",
              "      <td>8</td>\n",
              "      <td>4</td>\n",
              "      <td>1</td>\n",
              "      <td>1</td>\n",
              "      <td>1</td>\n",
              "      <td>1</td>\n",
              "      <td>3</td>\n",
              "    </tr>\n",
              "    <tr>\n",
              "      <th>21</th>\n",
              "      <td>0</td>\n",
              "      <td>52</td>\n",
              "      <td>0</td>\n",
              "      <td>2</td>\n",
              "      <td>0</td>\n",
              "      <td>2</td>\n",
              "      <td>6</td>\n",
              "      <td>79912690</td>\n",
              "      <td>1</td>\n",
              "      <td>5</td>\n",
              "      <td>2</td>\n",
              "      <td>7</td>\n",
              "      <td>0</td>\n",
              "      <td>9</td>\n",
              "      <td>3</td>\n",
              "      <td>1</td>\n",
              "      <td>1</td>\n",
              "      <td>2</td>\n",
              "      <td>4</td>\n",
              "    </tr>\n",
              "    <tr>\n",
              "      <th>26</th>\n",
              "      <td>0</td>\n",
              "      <td>19</td>\n",
              "      <td>1</td>\n",
              "      <td>2</td>\n",
              "      <td>0</td>\n",
              "      <td>8</td>\n",
              "      <td>15</td>\n",
              "      <td>19916403</td>\n",
              "      <td>1</td>\n",
              "      <td>7</td>\n",
              "      <td>4</td>\n",
              "      <td>0</td>\n",
              "      <td>0</td>\n",
              "      <td>11</td>\n",
              "      <td>1</td>\n",
              "      <td>1</td>\n",
              "      <td>1</td>\n",
              "      <td>1</td>\n",
              "      <td>3</td>\n",
              "    </tr>\n",
              "    <tr>\n",
              "      <th>27</th>\n",
              "      <td>0</td>\n",
              "      <td>46</td>\n",
              "      <td>0</td>\n",
              "      <td>3</td>\n",
              "      <td>0</td>\n",
              "      <td>2</td>\n",
              "      <td>7</td>\n",
              "      <td>79714053</td>\n",
              "      <td>1</td>\n",
              "      <td>4</td>\n",
              "      <td>4</td>\n",
              "      <td>3</td>\n",
              "      <td>3</td>\n",
              "      <td>9</td>\n",
              "      <td>3</td>\n",
              "      <td>1</td>\n",
              "      <td>1</td>\n",
              "      <td>2</td>\n",
              "      <td>4</td>\n",
              "    </tr>\n",
              "    <tr>\n",
              "      <th>30</th>\n",
              "      <td>0</td>\n",
              "      <td>20</td>\n",
              "      <td>0</td>\n",
              "      <td>2</td>\n",
              "      <td>0</td>\n",
              "      <td>8</td>\n",
              "      <td>15</td>\n",
              "      <td>19912297</td>\n",
              "      <td>1</td>\n",
              "      <td>8</td>\n",
              "      <td>4</td>\n",
              "      <td>3</td>\n",
              "      <td>3</td>\n",
              "      <td>18</td>\n",
              "      <td>1</td>\n",
              "      <td>1</td>\n",
              "      <td>1</td>\n",
              "      <td>1</td>\n",
              "      <td>3</td>\n",
              "    </tr>\n",
              "    <tr>\n",
              "      <th>...</th>\n",
              "      <td>...</td>\n",
              "      <td>...</td>\n",
              "      <td>...</td>\n",
              "      <td>...</td>\n",
              "      <td>...</td>\n",
              "      <td>...</td>\n",
              "      <td>...</td>\n",
              "      <td>...</td>\n",
              "      <td>...</td>\n",
              "      <td>...</td>\n",
              "      <td>...</td>\n",
              "      <td>...</td>\n",
              "      <td>...</td>\n",
              "      <td>...</td>\n",
              "      <td>...</td>\n",
              "      <td>...</td>\n",
              "      <td>...</td>\n",
              "      <td>...</td>\n",
              "      <td>...</td>\n",
              "    </tr>\n",
              "    <tr>\n",
              "      <th>7679</th>\n",
              "      <td>0</td>\n",
              "      <td>23</td>\n",
              "      <td>0</td>\n",
              "      <td>2</td>\n",
              "      <td>0</td>\n",
              "      <td>4</td>\n",
              "      <td>11</td>\n",
              "      <td>98410192</td>\n",
              "      <td>1</td>\n",
              "      <td>8</td>\n",
              "      <td>4</td>\n",
              "      <td>7</td>\n",
              "      <td>7</td>\n",
              "      <td>11</td>\n",
              "      <td>1</td>\n",
              "      <td>1</td>\n",
              "      <td>1</td>\n",
              "      <td>1</td>\n",
              "      <td>3</td>\n",
              "    </tr>\n",
              "    <tr>\n",
              "      <th>7693</th>\n",
              "      <td>0</td>\n",
              "      <td>65</td>\n",
              "      <td>1</td>\n",
              "      <td>2</td>\n",
              "      <td>0</td>\n",
              "      <td>8</td>\n",
              "      <td>16</td>\n",
              "      <td>17710223</td>\n",
              "      <td>1</td>\n",
              "      <td>4</td>\n",
              "      <td>7</td>\n",
              "      <td>0</td>\n",
              "      <td>0</td>\n",
              "      <td>14</td>\n",
              "      <td>1</td>\n",
              "      <td>1</td>\n",
              "      <td>1</td>\n",
              "      <td>1</td>\n",
              "      <td>3</td>\n",
              "    </tr>\n",
              "    <tr>\n",
              "      <th>7695</th>\n",
              "      <td>0</td>\n",
              "      <td>59</td>\n",
              "      <td>3</td>\n",
              "      <td>2</td>\n",
              "      <td>0</td>\n",
              "      <td>6</td>\n",
              "      <td>14</td>\n",
              "      <td>67710157</td>\n",
              "      <td>1</td>\n",
              "      <td>5</td>\n",
              "      <td>2</td>\n",
              "      <td>0</td>\n",
              "      <td>0</td>\n",
              "      <td>11</td>\n",
              "      <td>1</td>\n",
              "      <td>1</td>\n",
              "      <td>1</td>\n",
              "      <td>1</td>\n",
              "      <td>3</td>\n",
              "    </tr>\n",
              "    <tr>\n",
              "      <th>7704</th>\n",
              "      <td>0</td>\n",
              "      <td>61</td>\n",
              "      <td>3</td>\n",
              "      <td>2</td>\n",
              "      <td>0</td>\n",
              "      <td>1</td>\n",
              "      <td>4</td>\n",
              "      <td>47310098</td>\n",
              "      <td>1</td>\n",
              "      <td>5</td>\n",
              "      <td>2</td>\n",
              "      <td>0</td>\n",
              "      <td>1</td>\n",
              "      <td>11</td>\n",
              "      <td>1</td>\n",
              "      <td>1</td>\n",
              "      <td>1</td>\n",
              "      <td>1</td>\n",
              "      <td>3</td>\n",
              "    </tr>\n",
              "    <tr>\n",
              "      <th>7716</th>\n",
              "      <td>0</td>\n",
              "      <td>30</td>\n",
              "      <td>0</td>\n",
              "      <td>5</td>\n",
              "      <td>1</td>\n",
              "      <td>8</td>\n",
              "      <td>15</td>\n",
              "      <td>19910531</td>\n",
              "      <td>1</td>\n",
              "      <td>4</td>\n",
              "      <td>4</td>\n",
              "      <td>3</td>\n",
              "      <td>3</td>\n",
              "      <td>11</td>\n",
              "      <td>3</td>\n",
              "      <td>1</td>\n",
              "      <td>1</td>\n",
              "      <td>2</td>\n",
              "      <td>4</td>\n",
              "    </tr>\n",
              "  </tbody>\n",
              "</table>\n",
              "<p>605 rows × 19 columns</p>\n",
              "</div>"
            ],
            "text/plain": [
              "      gender  age  race  dwelling  dwelling_type  province_code  metro_code  \\\n",
              "12         0   52     0         2              0              1           3   \n",
              "21         0   52     0         2              0              2           6   \n",
              "26         0   19     1         2              0              8          15   \n",
              "27         0   46     0         3              0              2           7   \n",
              "30         0   20     0         2              0              8          15   \n",
              "...      ...  ...   ...       ...            ...            ...         ...   \n",
              "7679       0   23     0         2              0              4          11   \n",
              "7693       0   65     1         2              0              8          16   \n",
              "7695       0   59     3         2              0              6          14   \n",
              "7704       0   61     3         2              0              1           4   \n",
              "7716       0   30     0         5              1              8          15   \n",
              "\n",
              "           psu  nationality  RTH  marital_st  Lang_inside  Lang_outside  \\\n",
              "12    49910888            1    4           0            8             8   \n",
              "21    79912690            1    5           2            7             0   \n",
              "26    19916403            1    7           4            0             0   \n",
              "27    79714053            1    4           4            3             3   \n",
              "30    19912297            1    8           4            3             3   \n",
              "...        ...          ...  ...         ...          ...           ...   \n",
              "7679  98410192            1    8           4            7             7   \n",
              "7693  17710223            1    4           7            0             0   \n",
              "7695  67710157            1    5           2            0             0   \n",
              "7704  47310098            1    5           2            0             1   \n",
              "7716  19910531            1    4           4            3             3   \n",
              "\n",
              "      Education  lw_work  lw_business  help_on_household  job_or_business  \\\n",
              "12            4        1            1                  1                1   \n",
              "21            9        3            1                  1                2   \n",
              "26           11        1            1                  1                1   \n",
              "27            9        3            1                  1                2   \n",
              "30           18        1            1                  1                1   \n",
              "...         ...      ...          ...                ...              ...   \n",
              "7679         11        1            1                  1                1   \n",
              "7693         14        1            1                  1                1   \n",
              "7695         11        1            1                  1                1   \n",
              "7704         11        1            1                  1                1   \n",
              "7716         11        3            1                  1                2   \n",
              "\n",
              "      nature_of_work  \n",
              "12                 3  \n",
              "21                 4  \n",
              "26                 3  \n",
              "27                 4  \n",
              "30                 3  \n",
              "...              ...  \n",
              "7679               3  \n",
              "7693               3  \n",
              "7695               3  \n",
              "7704               3  \n",
              "7716               4  \n",
              "\n",
              "[605 rows x 19 columns]"
            ]
          },
          "metadata": {
            "tags": []
          },
          "execution_count": 20
        }
      ]
    },
    {
      "cell_type": "markdown",
      "metadata": {
        "id": "ZmBkI5ASexBS"
      },
      "source": [
        "**## DEALING WITH CLASS IMBALANCE USING RESAMPLING**"
      ]
    },
    {
      "cell_type": "code",
      "metadata": {
        "colab": {
          "base_uri": "https://localhost:8080/"
        },
        "id": "VPqu85pjeik-",
        "outputId": "dfd9d61c-eefa-4d37-b03a-95c7b34c930e"
      },
      "source": [
        "print('Number of class 1 samples before:',X[y == 1].shape[0])"
      ],
      "execution_count": 24,
      "outputs": [
        {
          "output_type": "stream",
          "text": [
            "Number of class 1 samples before: 605\n"
          ],
          "name": "stdout"
        }
      ]
    },
    {
      "cell_type": "code",
      "metadata": {
        "colab": {
          "base_uri": "https://localhost:8080/"
        },
        "id": "LcQTzavZe4BE",
        "outputId": "f439e908-5f77-4d5f-ef7f-7fddd7e90f20"
      },
      "source": [
        "print('Number of class 0 samples before:',X[y == 0].shape[0])"
      ],
      "execution_count": 27,
      "outputs": [
        {
          "output_type": "stream",
          "text": [
            "Number of class 0 samples before: 7131\n"
          ],
          "name": "stdout"
        }
      ]
    },
    {
      "cell_type": "code",
      "metadata": {
        "colab": {
          "base_uri": "https://localhost:8080/"
        },
        "id": "kMgsiZtBfsdu",
        "outputId": "62d2aec8-322d-4370-b63c-feeece480ff9"
      },
      "source": [
        "X_upsampled, y_upsampled = resample(X[y == 1],y[y == 1],replace=True,n_samples=X[y == 0].shape[0],random_state=123)\n",
        "print('Number of class 1 samples after:',X_upsampled.shape[0])"
      ],
      "execution_count": 29,
      "outputs": [
        {
          "output_type": "stream",
          "text": [
            "Number of class 1 samples after: 7131\n"
          ],
          "name": "stdout"
        }
      ]
    },
    {
      "cell_type": "code",
      "metadata": {
        "colab": {
          "base_uri": "https://localhost:8080/"
        },
        "id": "maPABQvsfAwZ",
        "outputId": "0c7b3459-26b9-431d-c825-c2544f8508e6"
      },
      "source": [
        "X_bal = np.vstack((X[y == 0], X_upsampled))\n",
        "y_bal = np.hstack((y[y == 0], y_upsampled))\n",
        "y_pred = np.zeros(y_bal.shape[0])\n",
        "np.mean(y_pred == y_bal) * 100"
      ],
      "execution_count": 30,
      "outputs": [
        {
          "output_type": "execute_result",
          "data": {
            "text/plain": [
              "50.0"
            ]
          },
          "metadata": {
            "tags": []
          },
          "execution_count": 30
        }
      ]
    },
    {
      "cell_type": "code",
      "metadata": {
        "colab": {
          "base_uri": "https://localhost:8080/"
        },
        "id": "5fFMhUY-f75a",
        "outputId": "531268e7-038e-4751-a4c3-0ca2aaf4a986"
      },
      "source": [
        "# for seed value 45\n",
        "\n",
        "preds, scores = [], []\n",
        " \n",
        "seed = 64\n",
        " \n",
        "Vc = VotingClassifier(estimators=[\n",
        "('cat',  CatBoostClassifier(verbose=False, thread_count=-1, random_state=seed)), \n",
        "('rgf', RGFClassifier()), (\"rgf1\", RGFClassifier(algorithm=\"RGF_Sib\")), ('cat1', CatBoostClassifier(bagging_temperature = 0.8609895558337871, border_count=116, depth=5, iterations=270, l2_leaf_reg=3, \n",
        "                         learning_rate=0.07085617391173239, random_strength=0.08820672130534879, random_state=seed, scale_pos_weight=0.390675124341283, verbose=False, thread_count=-1)),\n",
        "                           \n",
        "('gr' ,GradientBoostingClassifier()),\n",
        "('rg',RandomForestClassifier(n_estimators=500, n_jobs=-1, random_state=seed)), ('rg1', RandomForestClassifier(n_estimators=700, n_jobs=-1, random_state=seed))], \n",
        "voting=\"soft\", weights=[3, 1.5,1.5,1,1,1,1])\n",
        " \n",
        "skf = StratifiedKFold(n_splits=5, shuffle=True, random_state=seed) \n",
        "\n",
        "X = train.drop(['ID', 'target'], axis =1)\n",
        "y = train.target\n",
        "test_x=test.drop('ID', axis =1)\n",
        " \n",
        "i = 5\n",
        "for train_index, test_index in skf.split(X, y):\n",
        "  print(\"Number of splits left {0} to train.\".format(i))\n",
        "  x_train, x_test, y_train, y_test = X.iloc[train_index], X.iloc[test_index], y.iloc[train_index], y.iloc[test_index]\n",
        "  pipe = Pipeline([(\"SC\", MinMaxScaler()), (\"clf\", Vc)])\n",
        "  pipe.fit(x_train, y_train)\n",
        "  score = roc_auc_score(y_test, pipe.predict_proba(x_test)[:, 1])\n",
        "  scores.append(score) \n",
        "  pred = pipe.predict_proba(test_x)[:, 1]\n",
        "  preds.append(pred)\n",
        "  print(score)\n",
        "  i -= 1\n",
        " \n",
        "np.mean(scores)"
      ],
      "execution_count": 32,
      "outputs": [
        {
          "output_type": "stream",
          "text": [
            "Number of splits left 5 to train.\n",
            "0.5963444086015278\n",
            "Number of splits left 4 to train.\n",
            "0.674625896862286\n",
            "Number of splits left 3 to train.\n",
            "0.6367577341694388\n",
            "Number of splits left 2 to train.\n",
            "0.6561815399951317\n",
            "Number of splits left 1 to train.\n",
            "0.6727249545048857\n"
          ],
          "name": "stdout"
        },
        {
          "output_type": "execute_result",
          "data": {
            "text/plain": [
              "0.6473269068266541"
            ]
          },
          "metadata": {
            "tags": []
          },
          "execution_count": 32
        }
      ]
    },
    {
      "cell_type": "code",
      "metadata": {
        "id": "DxEZiL_Ci8tP"
      },
      "source": [
        ""
      ],
      "execution_count": null,
      "outputs": []
    },
    {
      "cell_type": "code",
      "metadata": {
        "id": "q5qkpfamgMNs"
      },
      "source": [
        "ss = pd.read_csv(\"/content/gdrive/My Drive/FIRST_HACKATON/SampleSubmission.csv\")\n",
        "p = np.mean(preds, axis=0)\n",
        "ss[\"target\"] = p\n",
        "ss.to_csv(\"zindi13.csv\", index=False)"
      ],
      "execution_count": 33,
      "outputs": []
    },
    {
      "cell_type": "code",
      "metadata": {
        "id": "JMeWqFPHjfcx"
      },
      "source": [
        ""
      ],
      "execution_count": null,
      "outputs": []
    }
  ]
}